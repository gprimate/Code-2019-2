{
 "cells": [
  {
   "cell_type": "markdown",
   "metadata": {},
   "source": [
    "<b>\n",
    "<br>\n",
    "<font size=\"5\"><p style=\"text-align: center;\">Introdução à Programação de Computadores</p></font>\n",
    "<br>\n",
    "<font size=\"5\"><p style=\"text-align: center;\">Lista de Exercícios #1</p></font>\n",
    "</b>\n",
    "<br><br>\n",
    "<font size=\"4\"><b>Professores:</b> <br>\n",
    "<font size=\"3\">\n",
    "Jefersson dos Santos - jefersson@dcc.ufmg.br \n",
    "<br>\n",
    "João Guilherme Maia de Menezes - guilhermemm@ufmg.br\n",
    "<br><br>\n",
    "<b>Monitores:</b> </font>\n",
    "<font size=\"3\">\n",
    "<br>\n",
    "Guilherme Pereira - guilhermepereira@dcc.ufmg.br\n",
    "<br>\n",
    "Igor Patricio dos Santos - igorp@ufmg.br\n",
    "<br>\n",
    "Igor Muzetti Pereira - igormuzetti@ufmg.br\n",
    "</font>\n",
    "</div>"
   ]
  },
  {
   "cell_type": "markdown",
   "metadata": {},
   "source": [
    "**Questão 1)** Leia três valores inteiros $a$, $b$ e $c$ e imprima a soma desses valores."
   ]
  },
  {
   "cell_type": "code",
   "execution_count": null,
   "metadata": {},
   "outputs": [],
   "source": [
    "a = int(input('Digite a: '))\n",
    "b = int(input('Digite b: '))\n",
    "c = int(input('Digite c: '))\n",
    "\n",
    "print(a + b + c)"
   ]
  },
  {
   "cell_type": "markdown",
   "metadata": {},
   "source": [
    "**Questão 2)** Leia um número real e imprima o quadrado desse número."
   ]
  },
  {
   "cell_type": "code",
   "execution_count": null,
   "metadata": {},
   "outputs": [],
   "source": [
    "num = float(input('Digite um número: '))\n",
    "\n",
    "print(num ** 2)"
   ]
  },
  {
   "cell_type": "markdown",
   "metadata": {},
   "source": [
    "**Questão 3)** Leia dois números inteiros e imprima o resto da divisão entre esses números"
   ]
  },
  {
   "cell_type": "code",
   "execution_count": null,
   "metadata": {},
   "outputs": [],
   "source": [
    "a = int(input('Digite a: '))\n",
    "b = int(input('Digite b: '))\n",
    "\n",
    "print(a % b)"
   ]
  },
  {
   "cell_type": "markdown",
   "metadata": {},
   "source": [
    "**Questão 4)** Leia os valores de comprimento, largura e altura de uma caixa e imprima o seu volume\n",
    "\n",
    "<pre>\n",
    "Volume = comprimento x largura x altura\n",
    "</pre>"
   ]
  },
  {
   "cell_type": "code",
   "execution_count": null,
   "metadata": {},
   "outputs": [],
   "source": [
    "comp = float(input('Digite o comprimento: '))\n",
    "larg = float(input('Digite a largura: '))\n",
    "alt = float(input('Digite a altura: '))\n",
    "\n",
    "print(comp * larg * alt)"
   ]
  },
  {
   "cell_type": "markdown",
   "metadata": {},
   "source": [
    "**Questão 5)** Leia uma velocidade em $km/h$ (quilômetros por hora) e apresente-a convertida para $m/s$ (metros por segundo)\n",
    "<pre>\n",
    "m = k / 3.6\n",
    "</pre>\n",
    "Sendo $m$ a velocidade metros por segundo e $k$ a velocidade em quilômetros por hora"
   ]
  },
  {
   "cell_type": "code",
   "execution_count": null,
   "metadata": {},
   "outputs": [],
   "source": [
    "k = float(input('Digite a velocidade em km/h: '))\n",
    "\n",
    "m = k / 3.6\n",
    "\n",
    "print(m)"
   ]
  },
  {
   "cell_type": "markdown",
   "metadata": {},
   "source": [
    "**Questão 6)** Leia uma distância em milhas e apresente-a como quilômetros\n",
    "<pre>\n",
    "km = milhas x 1.61\n",
    "</pre>"
   ]
  },
  {
   "cell_type": "code",
   "execution_count": null,
   "metadata": {},
   "outputs": [],
   "source": [
    "milhas = float(input('Digite a distancia em milhas: '))\n",
    "\n",
    "km = milhas * 1.61\n",
    "\n",
    "print(km)"
   ]
  },
  {
   "cell_type": "markdown",
   "metadata": {},
   "source": [
    "**Questão 7)** Leia um valor em real e a atual cotação do dólar. Em seguida, imprima o valor de entrada em dólares."
   ]
  },
  {
   "cell_type": "code",
   "execution_count": null,
   "metadata": {},
   "outputs": [],
   "source": [
    "reais = float(input('Digite um valor em reais: '))\n",
    "dollar = 4.06\n",
    "\n",
    "print(reais / dollar)"
   ]
  },
  {
   "cell_type": "markdown",
   "metadata": {},
   "source": [
    "**Questão 8)** Leia três valores inteiros $a$, $b$ e $c$ e imprima a soma dos quadrados desses valores."
   ]
  },
  {
   "cell_type": "code",
   "execution_count": null,
   "metadata": {},
   "outputs": [],
   "source": [
    "a = int(input('Digite a: '))\n",
    "b = int(input('Digite b: '))\n",
    "c = int(input('Digite c: '))\n",
    "\n",
    "print(a**2 + b**2 + c**2)"
   ]
  },
  {
   "cell_type": "markdown",
   "metadata": {},
   "source": [
    "**Questão 9)** Leia um número inteiro e imprima a soma do antecessor do seu triplo com o sucessor do seu dobro."
   ]
  },
  {
   "cell_type": "code",
   "execution_count": null,
   "metadata": {},
   "outputs": [],
   "source": [
    "num = int(input('Digite um inteiro: '))\n",
    "\n",
    "print(num*3-1 + num*2+1)"
   ]
  },
  {
   "cell_type": "markdown",
   "metadata": {},
   "source": [
    "**Questão 10)** Leia o salário de um funcionário. Imprima qual seria seu novo salário considerando um aumento de 25%."
   ]
  },
  {
   "cell_type": "code",
   "execution_count": null,
   "metadata": {},
   "outputs": [],
   "source": [
    "salario = float(input('Digite o salário: '))\n",
    "\n",
    "print(salario * 1.25)"
   ]
  },
  {
   "cell_type": "markdown",
   "metadata": {},
   "source": [
    "**Questão 11)** Uma  empresa  contrata  um  encanador  a  R\\$ 30,00  por  dia.  Faça  um  programa  que  solicite o  número  de  dias  trabalhados  pelo  encanador  e  imprima  a  quantia  líquida  que  deverá ser paga, sabendo-se  que  sao  descontados  8%  para  imposto  de  renda."
   ]
  },
  {
   "cell_type": "code",
   "execution_count": null,
   "metadata": {},
   "outputs": [],
   "source": [
    "dias = int(input('Digite o número de dias trabalhados: '))\n",
    "\n",
    "print(dias * 30 * 0.92)"
   ]
  },
  {
   "cell_type": "markdown",
   "metadata": {},
   "source": [
    "**Questão 12)** Escreva um programa para ajudar vendedores. A partir de um valor lido, mostre:\n",
    "<ol>\n",
    "  <li>O total a pagar com 10% de desconto</li>\n",
    "  <li>O valor de cada parcela no parcelamento de 6x sem juros</li>\n",
    "  <li>A comissão do vendedor caso venda a vista (5% sobre o valor com desconto)</li>\n",
    "    <li>A comissão do vendedor caso venda a prazo (5% sobre o valor total)</li>\n",
    "</ol>"
   ]
  },
  {
   "cell_type": "code",
   "execution_count": null,
   "metadata": {},
   "outputs": [],
   "source": [
    "valor = float(input('Digite um valor: '))\n",
    "\n",
    "print('Valor com 10% de desconto:', valor * 0.9)\n",
    "print('Valor da parcela em 6x:', valor / 6)\n",
    "print('Valor da comissão com pagamento a vista:', valor * 0.9 * 0.05)\n",
    "print('Valor da comissão com pagamento a prazo:', valor * 0.05)"
   ]
  },
  {
   "cell_type": "markdown",
   "metadata": {},
   "source": [
    "**Questão 13)** Escreva um programa que recebe a idade de uma pessoa e o ano atual e calcula o ano de nascimento dessa pessoa."
   ]
  },
  {
   "cell_type": "code",
   "execution_count": null,
   "metadata": {},
   "outputs": [],
   "source": [
    "idade = int(input('Digite a idade: '))\n",
    "ano = int(input('Digite o ano atual: '))\n",
    "\n",
    "print(ano - idade)"
   ]
  },
  {
   "cell_type": "markdown",
   "metadata": {},
   "source": [
    "**Questão 14)** Leia um valor inteiro em segundos e imprima o equivalente em horas, minutos e segundos"
   ]
  },
  {
   "cell_type": "code",
   "execution_count": null,
   "metadata": {},
   "outputs": [],
   "source": [
    "valor = int(input('Digite o valor em segundos: '))\n",
    "\n",
    "horas = int(valor / 3600)\n",
    "minutos = int(valor % 3600 / 60)\n",
    "segundos = valor % 60\n",
    "\n",
    "print(horas, 'h,', minutos, 'm,', segundos, 's.' )"
   ]
  },
  {
   "cell_type": "markdown",
   "metadata": {},
   "source": [
    "**Questão 15)** Três amigos jogaram na loteria. Caso eles ganhem, o prêmio deve ser repartido proporcionalmente ao valor que cada um deu para a realização da aposta. Faça um programa que leia quanto cada apostador investiu, o valor do premio, e imprima quanto cada um ganharia do prêmio com base no valor investido."
   ]
  },
  {
   "cell_type": "code",
   "execution_count": null,
   "metadata": {},
   "outputs": [],
   "source": [
    "amigo1 = float(input('Digite o valor investido pelo amigo 1: '))\n",
    "amigo2 = float(input('Digite o valor investido pelo amigo 2: '))\n",
    "amigo3 = float(input('Digite o valor investido pelo amigo 3: '))\n",
    "premio = float(input('Digite o valor do premio: '))\n",
    "\n",
    "total = amigo1 + amigo2 + amigo3\n",
    "\n",
    "amigo1 = premio * amigo1 / total\n",
    "amigo2 = premio * amigo2 / total\n",
    "amigo3 = premio * amigo3 / total\n",
    "\n",
    "print('Amigo 1:', amigo1,'Amigo 2:', amigo2,'Amigo 3:', amigo3)"
   ]
  }
 ],
 "metadata": {
  "anaconda-cloud": {},
  "kernelspec": {
   "display_name": "Python 3",
   "language": "python",
   "name": "python3"
  },
  "language_info": {
   "codemirror_mode": {
    "name": "ipython",
    "version": 3
   },
   "file_extension": ".py",
   "mimetype": "text/x-python",
   "name": "python",
   "nbconvert_exporter": "python",
   "pygments_lexer": "ipython3",
   "version": "3.7.3"
  }
 },
 "nbformat": 4,
 "nbformat_minor": 2
}
