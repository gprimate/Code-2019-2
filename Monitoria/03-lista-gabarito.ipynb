{
 "cells": [
  {
   "cell_type": "markdown",
   "metadata": {},
   "source": [
    "<b>\n",
    "<br>\n",
    "<font size=\"5\"><p style=\"text-align: center;\">Introdução à Programação de Computadores</p></font>\n",
    "<br>\n",
    "<font size=\"5\"><p style=\"text-align: center;\">Lista de Exercícios #3</p></font>\n",
    "</b>\n",
    "<br><br>\n",
    "<font size=\"4\"><b>Professores:</b> <br>\n",
    "<font size=\"3\">\n",
    "Jefersson dos Santos - jefersson@dcc.ufmg.br \n",
    "<br>\n",
    "Camila Laranjeira - camilalaranjeira@dcc.ufmg.br\n",
    "<br><br>\n",
    "<b>Monitores:</b> </font>\n",
    "<font size=\"3\">\n",
    "<br>\n",
    "Jéssica Ferreira Soares - jessicasoares@dcc.ufmg.br\n",
    "<br>\n",
    "Matheus Barros Pereira - matheusbarrosp@ufmg.br\n",
    "</font>\n",
    "</div>"
   ]
  },
  {
   "cell_type": "markdown",
   "metadata": {},
   "source": [
    "**Questão 1)** Crie uma função que recebe como parâmetro um número inteiro e devolve o seu dobro."
   ]
  },
  {
   "cell_type": "code",
   "execution_count": 1,
   "metadata": {},
   "outputs": [],
   "source": [
    "def dobro(num):\n",
    "    return num * 2"
   ]
  },
  {
   "cell_type": "markdown",
   "metadata": {},
   "source": [
    "**Questão 2)** Faça uma função para verificar se um número é positivo ou negativo. Sendo que o valor\n",
    "de retorno será 1 se positivo, -1 se negativo e 0 se for igual a 0.\n"
   ]
  },
  {
   "cell_type": "code",
   "execution_count": 2,
   "metadata": {},
   "outputs": [],
   "source": [
    "def sinalNum (num):\n",
    "    if num > 0:\n",
    "        return 1\n",
    "    \n",
    "    elif num < 0:\n",
    "        return -1\n",
    "    \n",
    "    else:\n",
    "        return 0"
   ]
  },
  {
   "cell_type": "markdown",
   "metadata": {},
   "source": [
    "**Questão 3)**  Faça uma função que receba a distância em $km$ e a quantidade de litros de gasolina consumidos por um carro em um percurso, calcule o consumo em $km/l$ e escreva uma mensagem de acordo com a tabela abaixo:\n",
    "\n",
    "| CONSUMO (Km/l) | MENSAGEM  |\n",
    "|----------------|-----------|\n",
    "| menor que 8    | Venda o carro! |\n",
    "| entre 8 e 12   | Econômico! |\n",
    "| maior que 12   | Super econômico! |"
   ]
  },
  {
   "cell_type": "code",
   "execution_count": 3,
   "metadata": {},
   "outputs": [],
   "source": [
    "def consumo(distKm, litros):\n",
    "    if (distKm / litros) < 8:\n",
    "        print('Venda o carro!')\n",
    "    \n",
    "    elif (distKm / litros) <= 12:\n",
    "        print('Economico!')\n",
    "\n",
    "    else:\n",
    "        print('Super economico!')"
   ]
  },
  {
   "cell_type": "markdown",
   "metadata": {},
   "source": [
    "**Questão 4)** Faça uma função que receba 3 números inteiros como parâmetro, representando horas,\n",
    "minutos e segundos, e retorne o valor total em segundos."
   ]
  },
  {
   "cell_type": "code",
   "execution_count": 4,
   "metadata": {},
   "outputs": [],
   "source": [
    "def tempoSegundos(horas, minutos, segundos):\n",
    "    return horas * 3600 + minutos * 60 + segundos"
   ]
  },
  {
   "cell_type": "markdown",
   "metadata": {},
   "source": [
    "**Questão 5)** Faça uma função que receba um número inteiro e retorne _True_ se este número é par ou _False_\n",
    "caso contrário."
   ]
  },
  {
   "cell_type": "code",
   "execution_count": 5,
   "metadata": {},
   "outputs": [],
   "source": [
    "def paridade(num):\n",
    "    if num % 2:\n",
    "        return False\n",
    "    \n",
    "    else:\n",
    "        return True"
   ]
  },
  {
   "cell_type": "markdown",
   "metadata": {},
   "source": [
    "**Questão 6)** Faça uma função e um programa de teste para o cálculo do volume de uma esfera.\n",
    "O raio deve ser passado por parâmetro para a função.\n",
    "\n",
    "$$V=\\frac{4}{3}*\\pi*R^3$$\n",
    "\n"
   ]
  },
  {
   "cell_type": "code",
   "execution_count": 6,
   "metadata": {},
   "outputs": [],
   "source": [
    "import math\n",
    "\n",
    "def volEsfera(raio):\n",
    "    return 4 * math.pi * (raio ** 3) / 3"
   ]
  },
  {
   "cell_type": "markdown",
   "metadata": {},
   "source": [
    "**Questão 7)** Sejam $a$ e $b$ os catetos de um triângulo, onde a hipotenusa $h$ é obtida pela equação:\n",
    "$h = a^2 + b^2$ . Faça uma função que receba os valores de $a$ e $b$ e retorne o valor da hipotenusa."
   ]
  },
  {
   "cell_type": "code",
   "execution_count": 7,
   "metadata": {},
   "outputs": [],
   "source": [
    "#enunciado da questao esqueceu de elevar h^2\n",
    "\n",
    "def hipotenusa(a,b):\n",
    "    return (a**2 + b**2) ** (1/2)"
   ]
  },
  {
   "cell_type": "markdown",
   "metadata": {},
   "source": [
    "**Questão 8)** Faça uma função que receba a altura e o sexo de uma pessoa e calcule e retorne seu peso ideal, utilizando as seguintes fórmulas (onde $h$ corresponde à altura):\n",
    "\n",
    "- Homens: $(72.7 ∗ h) − 58$\n",
    "- Mulheres: $(62.1 ∗ h)−44.7$\n",
    "\n"
   ]
  },
  {
   "cell_type": "code",
   "execution_count": 8,
   "metadata": {},
   "outputs": [],
   "source": [
    "def pesoIdeal (altura, sexo):\n",
    "    if sexo == 'F':\n",
    "        return 62.1 * altura - 44.7\n",
    "\n",
    "    else:\n",
    "        return 72.7 * altura - 58"
   ]
  },
  {
   "cell_type": "markdown",
   "metadata": {},
   "source": [
    "**Questão 9)** Faça uma função que receba três valores, $A$,$B$,$C$, verifique se eles podem ser valores dos lados de um triângulo e, se forem, imprima se é um triângulo escaleno, equilátero ou isóscele, considerando os seguintes conceitos:\n",
    "\n",
    "- O comprimento de cada lado de um triângulo é menor do que a soma dos outros dois lados.\n",
    "- Chama-se _equilátero_ o triângulo que tem três lados iguais.\n",
    "- Denominam-se _isósceles_ o triângulo que tem o comprimento de dois lados iguais.\n",
    "- Recebe o nome de _escaleno_ o triângulo que tem os três lados diferentes.\n",
    "\n"
   ]
  },
  {
   "cell_type": "code",
   "execution_count": 9,
   "metadata": {},
   "outputs": [],
   "source": [
    "def checaTriangulo(A,B,C):\n",
    "    if A >= B + C or B >= C + A or C >= A + B:\n",
    "        print('Triângulo inválido')\n",
    "    \n",
    "    elif A == B == C:\n",
    "        print('Triângulo equilátero')\n",
    "\n",
    "    elif A == B or A == C or B == C:\n",
    "        print('Triângulo isóceles')\n",
    "\n",
    "    else:\n",
    "        print('Triângulo escanelo')"
   ]
  },
  {
   "cell_type": "markdown",
   "metadata": {},
   "source": [
    "**Questão 10)** Elabore uma função que receba três notas de um aluno como parâmetros e uma letra. Se a letra for $A$, a função deverá calcular a média aritmética das notas do aluno; se for $P$, deverá calcular a média ponderada, com pesos 5, 3 e 2."
   ]
  },
  {
   "cell_type": "code",
   "execution_count": 10,
   "metadata": {},
   "outputs": [],
   "source": [
    "def media(nota1, nota2, nota3, tipo):\n",
    "    if tipo == 'A':\n",
    "        return (nota1 + nota2 + nota3) / 3\n",
    "    \n",
    "    else:\n",
    "        return (nota1*5 + nota2*3 + nota3*2) / 10"
   ]
  },
  {
   "cell_type": "markdown",
   "metadata": {},
   "source": [
    "**Questão 11)** Escreva uma função que receba um número inteiro maior do que zero e retorne a soma de todos os seus algarismos. Por exemplo, ao número $251$ corresponderá o valor $8$ $(2 + 5 + 1)$ Se o número lido não for maior do que zero, o programa terminará com a mensagem \"Número inválido\"."
   ]
  },
  {
   "cell_type": "code",
   "execution_count": 11,
   "metadata": {},
   "outputs": [],
   "source": [
    "def somaAlg(num):\n",
    "    soma = 0\n",
    "    \n",
    "    while num >= 1:\n",
    "        soma += num%10\n",
    "        num = int(num/10)\n",
    "        \n",
    "    return soma    "
   ]
  },
  {
   "cell_type": "markdown",
   "metadata": {},
   "source": [
    "**Questão 12)** Faça uma função que receba dois valores numéricos e um sı́mbolo. Este sı́mbolo representará a operação que se deseja efetuar com os números. Se o sı́mbolo for '$+$' deverá ser realizada uma adição, se for uma subtração, se for '$/$' uma divisão e se for '$*$' será efetuada uma multiplicação. A função deverá retornar o resultado da operação."
   ]
  },
  {
   "cell_type": "code",
   "execution_count": 12,
   "metadata": {},
   "outputs": [],
   "source": [
    "def operacao(num1, num2, op):\n",
    "    if op == '+':\n",
    "        return num1 + num2\n",
    "    \n",
    "    elif op == '/':\n",
    "        return num1 / num2\n",
    "    \n",
    "    else:\n",
    "        return num1 * num2"
   ]
  }
 ],
 "metadata": {
  "anaconda-cloud": {},
  "kernelspec": {
   "display_name": "Python 3",
   "language": "python",
   "name": "python3"
  },
  "language_info": {
   "codemirror_mode": {
    "name": "ipython",
    "version": 3
   },
   "file_extension": ".py",
   "mimetype": "text/x-python",
   "name": "python",
   "nbconvert_exporter": "python",
   "pygments_lexer": "ipython3",
   "version": "3.7.3"
  }
 },
 "nbformat": 4,
 "nbformat_minor": 2
}
