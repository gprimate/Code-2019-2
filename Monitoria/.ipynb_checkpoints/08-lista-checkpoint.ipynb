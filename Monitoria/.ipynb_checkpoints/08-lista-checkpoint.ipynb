{
 "cells": [
  {
   "cell_type": "markdown",
   "metadata": {},
   "source": [
    "<b>\n",
    "<br>\n",
    "<font size=\"5\"><p style=\"text-align: center;\">Introdução à Programação de Computadores</p></font>\n",
    "<br>\n",
    "<font size=\"5\"><p style=\"text-align: center;\">Lista de Exercícios #8</p></font>\n",
    "</b>\n",
    "<br><br>\n",
    "<font size=\"4\"><b>Professores:</b> <br>\n",
    "<font size=\"3\">\n",
    "Jefersson dos Santos - jefersson@dcc.ufmg.br \n",
    "<br>\n",
    "Guilherme Maia - jgmm@dcc.ufmg.br\n",
    "<br><br>\n",
    "<b>Monitores:</b> </font>\n",
    "<font size=\"3\">\n",
    "<br>\n",
    "Guilherme Pereira - guilhermepereira@dcc.ufmg.br\n",
    "<br>\n",
    "Igor Patricio dos Santos - igorp@ufmg.br\n",
    "<br>\n",
    "Igor Muzetti Pereira - \tigormuzetti@ufmg.br\n",
    "</font>\n",
    "</div>"
   ]
  },
  {
   "cell_type": "markdown",
   "metadata": {},
   "source": [
    "**Questão 1)** Escrava a função  bhaskara que recebe como parâmetro os índices *a*, *b* e *c* de uma equação do segundo grau e retorna uma tupla com as raízes da equação. \n",
    "\n",
    "**Exemplo**\n",
    "<pre>\n",
    "Input:\n",
    "    bhaskara(1,0,-9)\n",
    "    \n",
    "Saida:\n",
    "    (3.0, -3.0)\n",
    "</pre>"
   ]
  },
  {
   "cell_type": "code",
   "execution_count": null,
   "metadata": {},
   "outputs": [],
   "source": []
  },
  {
   "cell_type": "markdown",
   "metadata": {},
   "source": [
    "**Questão 2)** Escreva função raio_circ que recebe a área de um circulo como parâmetro e retorne uma tupla com o raio e a circunferencia (considere pi = 3.14).\n",
    "\n",
    "**Exemplos:**\n",
    "<pre>\n",
    "Input:\n",
    "   raio_circ(78.5)\n",
    "   \n",
    "Saída:\n",
    "   (5.0, 31.4)\n",
    "</pre>"
   ]
  },
  {
   "cell_type": "code",
   "execution_count": null,
   "metadata": {},
   "outputs": [],
   "source": []
  },
  {
   "cell_type": "markdown",
   "metadata": {},
   "source": [
    "**Questão 3)** Escreva a função maior_nota que recebe um diconário como parâmetro um diconário com matérias e notas e retorna uma tupla com o nome e a nota da matéria com maior nota.\n",
    "\n",
    "**Exemplo**\n",
    "<pre>\n",
    "Input:\n",
    "    maior_nota ({\"matematica\": 85, \"geografia\": 75, \"portugues\": 60})\n",
    "    \n",
    "Saida:\n",
    "    ('matematica', 85)\n",
    "</pre>"
   ]
  },
  {
   "cell_type": "code",
   "execution_count": null,
   "metadata": {},
   "outputs": [],
   "source": []
  },
  {
   "cell_type": "markdown",
   "metadata": {},
   "source": [
    "**Questão 4)** Escreva a função nota_media que recebe como parâmetro um diconário com matérias e notas e uma lista de matérias e retorna a media das notas das metérias desejadas.\n",
    "\n",
    "**Exemplos:**\n",
    "<pre>\n",
    "Input:\n",
    "   nota_media ({\"matematica\": 85, \"geografia\": 75, \"portugues\": 60}, ['matematica', 'geografia'])\n",
    "   \n",
    "Saída:\n",
    "   80.0\n",
    "</pre>"
   ]
  },
  {
   "cell_type": "code",
   "execution_count": null,
   "metadata": {},
   "outputs": [],
   "source": []
  },
  {
   "cell_type": "markdown",
   "metadata": {},
   "source": [
    "**Questão 5)** Escreva a função nota_media_aluno que recebe como parâmetro um dicionário de dicionário com o nome dos alunos, as matérias e notas, uma lista de matérias e o nome do aluno e retorna a media das notas das metérias desejadas desse aluno\n",
    "\n",
    "**Exemplo**\n",
    "<pre>\n",
    "Input:\n",
    "notas = {\n",
    "  \"Joao\" : {\n",
    "    \"matematica\" : 85,\n",
    "    \"geografia\" : 75,\n",
    "    \"portugues\" : 60\n",
    "    \n",
    "  },\n",
    "  \"Gustavo\" : {\n",
    "    \"matematica\" : 71,\n",
    "    \"geografia\" : 88,\n",
    "    \"portugues\" : 95\n",
    "  },\n",
    "  \"Ana\" : {\n",
    "    \"matematica\" : 98,\n",
    "    \"geografia\" : 70,\n",
    "    \"portugues\" : 55\n",
    "  }\n",
    "}\n",
    "\n",
    "nota_media_aluno (notas, ['matematica', 'geografia'], 'Joao')  \n",
    "    \n",
    "Saida:\n",
    "    80.0\n",
    "</pre>"
   ]
  },
  {
   "cell_type": "code",
   "execution_count": null,
   "metadata": {},
   "outputs": [],
   "source": []
  },
  {
   "cell_type": "markdown",
   "metadata": {},
   "source": [
    "**Questão 6)** Escreva a função nome_mais_comum que recebe como parâmetro uma lista de nomes e retorna uma tupla com o nome com mais repetições e quantas vezes ele ocorreu.\n",
    "\n",
    "**Exemplo**\n",
    "<pre>\n",
    "Input:\n",
    "    nome_mais_comum(['Joao', 'Gustavo', 'Ana', 'Joao'])\n",
    "    \n",
    "Saida:\n",
    "    ('Joao', 2)\n",
    "</pre>"
   ]
  },
  {
   "cell_type": "code",
   "execution_count": null,
   "metadata": {},
   "outputs": [],
   "source": []
  },
  {
   "cell_type": "markdown",
   "metadata": {},
   "source": [
    "**Questão 7)** Escreva a função algarismo_mais_comum que recebe como parâmetro uma lista de inteiros e retorna uma tupla com o algarismo com mais repetições e quantas vezes ele ocorreu.\n",
    "\n",
    "**Exemplo**\n",
    "<pre>\n",
    "Input:\n",
    "    algarismo_mais_comum([0, 12, 22, 0])\n",
    "    \n",
    "Saida:\n",
    "    (2, 3)\n",
    "</pre>"
   ]
  },
  {
   "cell_type": "code",
   "execution_count": null,
   "metadata": {},
   "outputs": [],
   "source": []
  }
 ],
 "metadata": {
  "kernelspec": {
   "display_name": "Python 3",
   "language": "python",
   "name": "python3"
  },
  "language_info": {
   "codemirror_mode": {
    "name": "ipython",
    "version": 3
   },
   "file_extension": ".py",
   "mimetype": "text/x-python",
   "name": "python",
   "nbconvert_exporter": "python",
   "pygments_lexer": "ipython3",
   "version": "3.7.3"
  }
 },
 "nbformat": 4,
 "nbformat_minor": 2
}
