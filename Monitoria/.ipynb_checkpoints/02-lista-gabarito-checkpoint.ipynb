{
 "cells": [
  {
   "cell_type": "markdown",
   "metadata": {},
   "source": [
    "<b>\n",
    "<br>\n",
    "<font size=\"5\"><p style=\"text-align: center;\">Introdução à Programação de Computadores</p></font>\n",
    "<br>\n",
    "<font size=\"5\"><p style=\"text-align: center;\">Lista de Exercícios #2</p></font>\n",
    "</b>\n",
    "<br><br>\n",
    "<font size=\"4\"><b>Professores:</b> <br>\n",
    "<font size=\"3\">\n",
    "Jefersson dos Santos - jefersson@dcc.ufmg.br \n",
    "<br>\n",
    "Guilherme Maia - jgmm@dcc.ufmg.br\n",
    "<br><br>\n",
    "</font>\n",
    "</div>"
   ]
  },
  {
   "cell_type": "markdown",
   "metadata": {},
   "source": [
    "**Questão 1)** Leia um número fornecido pelo usuário. Se esse número for positivo, calcule a raiz quadrada do número. Se o número for negativo, mostre uma mensagem dizendo que o número é inválido."
   ]
  },
  {
   "cell_type": "code",
   "execution_count": 1,
   "metadata": {},
   "outputs": [
    {
     "name": "stdout",
     "output_type": "stream",
     "text": [
      "Type a number: 30\n",
      "The square root of  30.0  is  5.477225575051661\n"
     ]
    }
   ],
   "source": [
    "numInput = input('Type a number: ')\n",
    "num = float(numInput)\n",
    "\n",
    "if num >= 0:\n",
    "    sqrt = num**0.5\n",
    "    print('The square root of ', num, ' is ', sqrt)\n",
    "\n",
    "else:\n",
    "    print('The number you typed is invalid!')"
   ]
  },
  {
   "cell_type": "markdown",
   "metadata": {},
   "source": [
    "**Questão 2)** O custo ao consumidor de um carro novo é a soma do custo de fábrica, da comissão do distribuidor, e dos impostos. A comissão e os impostos são calculados sobre o custo de fábrica, de acordo com a tabela abaixo. Leia o custo de fábrica e escreva o custo ao consumidor.\n",
    "\n",
    "| CUSTO DE FÁBRICA              | % DO DISTRIBUIDOR | % DOS IMPOSTOS   |\n",
    "|-------------------------------|-------------------|------------------|\n",
    "| até 12.000,00               | 5                 | isento           |\n",
    "| entre 12.000,00 e 25.000,00 | 10                | 15               |\n",
    "| acima de 25.000,00          | 15                 |20                |\n"
   ]
  },
  {
   "cell_type": "code",
   "execution_count": 2,
   "metadata": {},
   "outputs": [
    {
     "name": "stdout",
     "output_type": "stream",
     "text": [
      "Type the factory cost: 22000\n",
      "The final cost is  27500.0\n"
     ]
    }
   ],
   "source": [
    "costFactInput = input('Type the factory cost: ')\n",
    "costFact = float(costFactInput)\n",
    "totalCost = 0\n",
    "\n",
    "if costFact < 12000:\n",
    "    totalCost = costFact * 1.05\n",
    "\n",
    "elif costFact < 25000:\n",
    "    totalCost = costFact * 1.25\n",
    "    \n",
    "else:\n",
    "    totalCost = costFact * 1.35\n",
    "    \n",
    "print('The final cost is ', totalCost)"
   ]
  },
  {
   "cell_type": "markdown",
   "metadata": {},
   "source": [
    "**Questão 3)** Leia uma data e determine se ela é válida. Ou seja, verifique se o mês está entre 1 e 12, e se o dia existe naquele mês. Note que Fevereiro tem 29 dias em anos bissextos, e 28 dias em anos não bissextos."
   ]
  },
  {
   "cell_type": "code",
   "execution_count": 3,
   "metadata": {},
   "outputs": [
    {
     "name": "stdout",
     "output_type": "stream",
     "text": [
      "Type the day: 29\n",
      "Type the number of the month: 2\n",
      "Type the year: 2020\n",
      "Valid date!\n"
     ]
    }
   ],
   "source": [
    "dayInput = input('Type the day: ')\n",
    "monthInput = input('Type the number of the month: ')\n",
    "yearInput = input('Type the year: ')\n",
    "\n",
    "error = False\n",
    "validDate = False\n",
    "\n",
    "try:\n",
    "    day = int(dayInput)\n",
    "    month = int(monthInput)\n",
    "    year = int(yearInput)\n",
    "    \n",
    "except:\n",
    "    error = True\n",
    "\n",
    "if day >= 1 and day <= 31 and month >= 1 and month <= 12 and year != 0 and not error:\n",
    "     \n",
    "    if month==2:\n",
    "        bool29 = 0\n",
    "\n",
    "        if  (year % 100 != 0 and year % 4 == 0) or  year % 400 == 0:\n",
    "            bool29 = 1\n",
    "\n",
    "        if day <= (28 + bool29):\n",
    "            validDate = True\n",
    "\n",
    "    elif month==4 or month==6 or month==9 or month==11:\n",
    "        if day <=30:\n",
    "            validDate = True\n",
    "\n",
    "    else:\n",
    "        validDate = True\n",
    "        \n",
    "if validDate:\n",
    "    print('Valid date!')\n",
    "else:\n",
    "    print('Invalid date!')"
   ]
  },
  {
   "cell_type": "markdown",
   "metadata": {},
   "source": [
    "**Questão 4)** Uma empresa vende o mesmo produto para quatro diferentes estados. Cada estado possui uma taxa diferente de imposto sobre o produto (MG 7%; SP 12%; RJ 15%; MS 8%). Faça um programa em que o usuário entre com o valor e o estado destino do produto e o programa retorne o preço final do produto acrescido do imposto do estado em que ele será vendido. Se o estado digitado não for válido, mostrar uma mensagem de erro."
   ]
  },
  {
   "cell_type": "code",
   "execution_count": 4,
   "metadata": {},
   "outputs": [
    {
     "name": "stdout",
     "output_type": "stream",
     "text": [
      "Type the value of the product: 150\n",
      "Type the code of the state: MG\n",
      "The value in  MG  is  160.5\n"
     ]
    }
   ],
   "source": [
    "valueInput = input('Type the value of the product: ')\n",
    "state = input('Type the code of the state: ')\n",
    "\n",
    "valueError = False\n",
    "stateError = False\n",
    "\n",
    "\n",
    "try:\n",
    "    value = int(valueInput)\n",
    "\n",
    "except:\n",
    "    valueError = True\n",
    "    \n",
    "if valueError:\n",
    "    print('Invalid Value')\n",
    "    \n",
    "elif state == 'MG':\n",
    "    value *= 1.07\n",
    "    \n",
    "elif state == 'SP':\n",
    "    value *= 1.12\n",
    "\n",
    "elif state == 'RJ':\n",
    "    value *= 1.15\n",
    "\n",
    "elif state == 'MS':\n",
    "    value *= 1.08\n",
    "    \n",
    "else:\n",
    "    stateError = True\n",
    "    \n",
    "if stateError:\n",
    "    print('Invalid state')\n",
    "    \n",
    "elif not valueError:\n",
    "    print('The value in ', state, ' is ', value)"
   ]
  },
  {
   "cell_type": "markdown",
   "metadata": {},
   "source": [
    "**Questão 5)** Faça um programa que receba um número inteiro e verifique se este número é par ou\n",
    "ímpar."
   ]
  },
  {
   "cell_type": "code",
   "execution_count": 5,
   "metadata": {},
   "outputs": [
    {
     "name": "stdout",
     "output_type": "stream",
     "text": [
      "Type an integer: 6\n",
      "The number is even\n"
     ]
    }
   ],
   "source": [
    "numInput = input('Type an integer: ')\n",
    "error = False\n",
    "\n",
    "try:\n",
    "    num = int(numInput)\n",
    "    \n",
    "except:\n",
    "    error = True\n",
    "    \n",
    "if error:\n",
    "    print('Invalid input')\n",
    "\n",
    "elif num % 2 == 0:\n",
    "    print('The number is even')\n",
    "\n",
    "else:\n",
    "    print('The number is odd')"
   ]
  },
  {
   "cell_type": "markdown",
   "metadata": {},
   "source": [
    "**Questão 6)** Faça um programa que leia 2 notas de um aluno, verifique se as notas são válidas e exiba na tela a média destas notas. Uma nota válida deve ser, obrigatoriamente, um valor entre 0.0 e 10.0, onde caso a nota não possua um valor válido, este fato deve ser informado ao usuário e o programa termina.\n"
   ]
  },
  {
   "cell_type": "code",
   "execution_count": 6,
   "metadata": {},
   "outputs": [
    {
     "name": "stdout",
     "output_type": "stream",
     "text": [
      "Type the first grade: 7\n",
      "Type the second grade: 9\n",
      "The mean of the grades is 8.0\n"
     ]
    }
   ],
   "source": [
    "grade1Input = input('Type the first grade: ')\n",
    "grade2Input = input('Type the second grade: ')\n",
    "\n",
    "inputError = False\n",
    "gradeError = False\n",
    "\n",
    "try:\n",
    "    grade1 = float(grade1Input)\n",
    "    grade2 = float(grade2Input)\n",
    "    \n",
    "except:\n",
    "    inputError = True\n",
    "\n",
    "if inputError:\n",
    "    print('A input value is not a number')\n",
    "    \n",
    "elif (grade1 or grade2) < 0 or (grade1 or grade2) > 10:\n",
    "    print('A grade has an invalid value')\n",
    "\n",
    "else:\n",
    "    mean = (grade1 + grade2) / 2\n",
    "    print('The mean of the grades is', mean)"
   ]
  },
  {
   "cell_type": "markdown",
   "metadata": {},
   "source": [
    "**Questão 7)** Leia o salário de um trabalhador e o valor da prestação de um empréstimo. Se a prestação for maior que 20% do salário imprima: \"Empréstimo não concedido\", caso contrário imprima: \"Empréstimo concedido\"."
   ]
  },
  {
   "cell_type": "code",
   "execution_count": 7,
   "metadata": {},
   "outputs": [
    {
     "name": "stdout",
     "output_type": "stream",
     "text": [
      "Type the salary: 1500\n",
      "Type the installment value: 300\n",
      "Emprestimo concedido\n"
     ]
    }
   ],
   "source": [
    "salaryInput = input('Type the salary: ')\n",
    "installmentInput = input('Type the installment value: ')\n",
    "\n",
    "inputError = False\n",
    "\n",
    "try:\n",
    "    salary = float(salaryInput)\n",
    "    installment = float(installmentInput)\n",
    "\n",
    "except:\n",
    "    inputError = True\n",
    "    \n",
    "if inputError:\n",
    "    print('Invalid input')\n",
    "    \n",
    "elif installment > 0.2 * salary:# Digite sua solução aqui\n",
    "\n",
    "    print('Emprestimo nao concedido')\n",
    "    \n",
    "else:\n",
    "    print('Emprestimo concedido')"
   ]
  },
  {
   "cell_type": "markdown",
   "metadata": {},
   "source": [
    "**Questão 8)** Faça um programa que receba a altura e o sexo de uma pessoa e calcule e mostre seu peso ideal, utilizando as seguintes fórmulas (onde $h$ corresponde à altura):\n",
    "\n",
    "- Homens: $(72.7 ∗ h) − 58$\n",
    "- Mulheres: $(62.1 ∗ h)−44.7$\n",
    "\n"
   ]
  },
  {
   "cell_type": "code",
   "execution_count": 8,
   "metadata": {},
   "outputs": [
    {
     "name": "stdout",
     "output_type": "stream",
     "text": [
      "Type M for male or F for female: M\n",
      "Type the height: 1.73\n",
      "The ideal weight is: 67.771\n"
     ]
    }
   ],
   "source": [
    "sex = input('Type M for male or F for female: ')\n",
    "heightInput = input('Type the height: ')\n",
    "\n",
    "heightError = False\n",
    "sexError = False\n",
    "idealWeight = 0\n",
    "\n",
    "try:   \n",
    "    height = float(heightInput)\n",
    "    \n",
    "except:\n",
    "    heightError = True\n",
    "\n",
    "if heightError:\n",
    "    print('Invalid height input')\n",
    "\n",
    "elif sex == 'F':\n",
    "    idealWeight = 62.1 * height - 44.7\n",
    "    \n",
    "elif sex == 'M':\n",
    "    idealWeight = 72.7 * height - 58\n",
    "    \n",
    "else:\n",
    "    sexError = True\n",
    "    print('Invalid sex input')\n",
    "    \n",
    "if not sexError and not heightError:\n",
    "    print('The ideal weight is:', idealWeight)\n",
    "    "
   ]
  },
  {
   "cell_type": "markdown",
   "metadata": {},
   "source": [
    "**Questão 9)** Dados três valores, $A$,$B$,$C$, verificar se eles podem ser valores dos lados de um triângulo e, se forem, se é um triângulo escaleno, equilátero ou isóscele, considerando os seguintes conceitos:\n",
    "\n",
    "- O comprimento de cada lado de um triângulo é menor do que a soma dos outros dois lados.\n",
    "- Chama-se _equilátero_ o triângulo que tem três lados iguais.\n",
    "- Denominam-se _isósceles_ o triângulo que tem o comprimento de dois lados iguais.\n",
    "- Recebe o nome de _escaleno_ o triângulo que tem os três lados diferentes.\n",
    "\n"
   ]
  },
  {
   "cell_type": "code",
   "execution_count": 2,
   "metadata": {},
   "outputs": [
    {
     "name": "stdout",
     "output_type": "stream",
     "text": [
      "Type the value of the edge A: 10\n",
      "Type the value of the edge B: 5\n",
      "Type the value of the edge C: 4\n",
      "Triângulo inválido\n"
     ]
    }
   ],
   "source": [
    "inputA = input('Type the value of the edge A: ')\n",
    "inputB = input('Type the value of the edge B: ')\n",
    "inputC = input('Type the value of the edge C: ')\n",
    "\n",
    "inputError = False\n",
    "\n",
    "try:\n",
    "    A = float(inputA)\n",
    "    B = float(inputB)    \n",
    "    C = float(inputC)    \n",
    "\n",
    "except:\n",
    "    inputError = True\n",
    "    \n",
    "if inputError or A <= 0 or B <= 0 or C <= 0:\n",
    "    print('Invalid input')\n",
    "    \n",
    "elif A >= B + C or B >= C + A or C >= A + B:\n",
    "    print('Invalid triangle')\n",
    "    \n",
    "elif A == B == C:\n",
    "    print('Equilateral triangle')\n",
    "        \n",
    "elif A == B or A == C or B == C:\n",
    "    print('Isosceles triangle')\n",
    "\n",
    "else:\n",
    "    print('Scalene triangle')"
   ]
  },
  {
   "cell_type": "markdown",
   "metadata": {},
   "source": [
    "**Questão 10)** Leia a distância em $km$ e a quantidade de litros de gasolina consumidos por um carro em um percurso, calcule o consumo em $km/l$ e escreva uma mensagem de acordo com a tabela abaixo:\n",
    "\n",
    "| CONSUMO (Km/l) | MENSAGEM  |\n",
    "|----------------|-----------|\n",
    "| menor que 8    | Venda o carro! |\n",
    "| entre 8 e 12   | Econômico! |\n",
    "| maior que 12   | Super econômico! |"
   ]
  },
  {
   "cell_type": "code",
   "execution_count": 10,
   "metadata": {},
   "outputs": [
    {
     "name": "stdout",
     "output_type": "stream",
     "text": [
      "Type the distance in km: 50\n",
      "Type the amount of gasoline used in liters: 9\n",
      "Venda o carro!\n"
     ]
    }
   ],
   "source": [
    "inputDistance = input('Type the distance in km: ')\n",
    "inputFuel = input('Type the amount of gasoline used in liters: ')\n",
    "\n",
    "inputError = False\n",
    "\n",
    "try:\n",
    "    distance = float(inputDistance)\n",
    "    fuel = float(inputFuel)\n",
    "    \n",
    "except:\n",
    "    inputError = True\n",
    "    \n",
    "if inputError:\n",
    "    print('Invalid input')\n",
    "    \n",
    "elif (distance/fuel) < 8:\n",
    "    print('Venda o carro!')\n",
    "    \n",
    "elif (distance/fuel) <= 12:\n",
    "    print('Economico!')\n",
    "\n",
    "else:\n",
    "    print('Super economico!')"
   ]
  }
 ],
 "metadata": {
  "anaconda-cloud": {},
  "kernelspec": {
   "display_name": "Python 3",
   "language": "python",
   "name": "python3"
  },
  "language_info": {
   "codemirror_mode": {
    "name": "ipython",
    "version": 3
   },
   "file_extension": ".py",
   "mimetype": "text/x-python",
   "name": "python",
   "nbconvert_exporter": "python",
   "pygments_lexer": "ipython3",
   "version": "3.7.3"
  }
 },
 "nbformat": 4,
 "nbformat_minor": 2
}
