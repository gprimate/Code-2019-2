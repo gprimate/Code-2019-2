{
 "cells": [
  {
   "cell_type": "markdown",
   "metadata": {},
   "source": [
    "<b>\n",
    "<br>\n",
    "<font size=\"5\"><p style=\"text-align: center;\">Introdução à Programação de Computadores</p></font>\n",
    "<br>\n",
    "<font size=\"5\"><p style=\"text-align: center;\">Lista de Exercícios #6</p></font>\n",
    "</b>\n",
    "<br><br>\n",
    "<font size=\"4\"><b>Professores:</b> <br>\n",
    "<font size=\"3\">\n",
    "Jefersson dos Santos - jefersson@dcc.ufmg.br \n",
    "<br>\n",
    "Guilherme Maia - jgmm@dcc.ufmg.br\n",
    "<br><br>\n",
    "<b>Monitores:</b> </font>\n",
    "<font size=\"3\">\n",
    "<br>\n",
    "Guilherme Pereira - guilhermepereira@dcc.ufmg.br\n",
    "<br>\n",
    "Igor Patricio dos Santos - igorp@ufmg.br\n",
    "<br>\n",
    "Igor Muzetti Pereira - \tigormuzetti@ufmg.br\n",
    "</font>\n",
    "</div>"
   ]
  },
  {
   "cell_type": "markdown",
   "metadata": {},
   "source": [
    "**Parte 1: Laços de Iteração e Strings:**"
   ]
  },
  {
   "cell_type": "markdown",
   "metadata": {},
   "source": [
    "**Questão 1)** Escreva um programa que receba um número inteiro (n) como entrada e imprima o seguinte padrão: <br>\n",
    "\n",
    "\\* <br>\n",
    "\\*\\* <br>\n",
    "\\*\\*\\* <br>\n",
    "\\*\\*\\*\\* <br>\n",
    "\\*\\*\\*\\*\\* <br>\n",
    "\\*\\*\\*\\* <br>\n",
    "\\*\\*\\* <br>\n",
    "\\*\\* <br>\n",
    "\\*<br>"
   ]
  },
  {
   "cell_type": "markdown",
   "metadata": {},
   "source": [
    "onde, n corresponde ao maior valor de asteriscos impressos em uma mesma linha (no caso do exemplo acima n = 5)"
   ]
  },
  {
   "cell_type": "code",
   "execution_count": null,
   "metadata": {},
   "outputs": [],
   "source": []
  },
  {
   "cell_type": "markdown",
   "metadata": {},
   "source": [
    "**Questão 2)** Escreva um programa que receba um número inteiro (n) como entrada e imprima o seguinte padrão: <br>\n",
    "\n",
    "1&emsp;&emsp;&emsp;&emsp;&emsp;&emsp;&emsp;&emsp;&nbsp;&nbsp;1 <br>\n",
    "22&emsp;&emsp;&emsp;&emsp;&emsp;&emsp;&emsp;&nbsp;&nbsp;22<br>\n",
    "333&emsp;&emsp;&emsp;&emsp;&emsp;&emsp;&nbsp;            333<br>\n",
    "4444&emsp;&emsp;&emsp;&emsp;&emsp;&nbsp;&nbsp;4444<br>\n",
    "55555&emsp;&emsp;&emsp;&emsp;&nbsp;&nbsp;55555<br>\n",
    "666666&emsp;&emsp;&emsp;&nbsp;666666<br>\n",
    "7777777&nbsp;&nbsp;&nbsp;&nbsp;&nbsp;&nbsp;&nbsp;&nbsp;7777777<br>\n",
    "88888888&nbsp;&nbsp;&nbsp;&nbsp;88888888<br>\n",
    "999999999999999999<br>"
   ]
  },
  {
   "cell_type": "markdown",
   "metadata": {},
   "source": [
    "onde, n corresponde ao maior valor impresso, no caso do exemplo acima n = 9. **Note que serão impresso 2\\*n caracteres em cada linha.**"
   ]
  },
  {
   "cell_type": "code",
   "execution_count": null,
   "metadata": {},
   "outputs": [],
   "source": []
  },
  {
   "cell_type": "markdown",
   "metadata": {},
   "source": [
    "**Questão 3)** Escreva um programa que receba dois números de entrada e calcule o MDC (máximo Divisor Comum) desses dois números. <br>\n",
    "Exemplo: <br>\n",
    "**Input:** <br>\n",
    "&emsp; 5 <br>\n",
    "&emsp; 10 <br>\n",
    "**Output:** <br>\n",
    "&emsp; 5 <br>"
   ]
  },
  {
   "cell_type": "code",
   "execution_count": null,
   "metadata": {},
   "outputs": [],
   "source": []
  },
  {
   "cell_type": "markdown",
   "metadata": {},
   "source": [
    "**Questão 4)** Escreva um programa que receba um string como entrada e altere todas as repetições do primeiro caractere dele por \"\\*\". <br>\n",
    "Exemplo: <br>\n",
    "**Input:** <br>\n",
    "&emsp; restart <br>\n",
    "**Output:** <br>\n",
    "&emsp; resta\\*t <br>"
   ]
  },
  {
   "cell_type": "code",
   "execution_count": null,
   "metadata": {},
   "outputs": [],
   "source": []
  }
 ],
 "metadata": {
  "kernelspec": {
   "display_name": "Python 3",
   "language": "python",
   "name": "python3"
  },
  "language_info": {
   "codemirror_mode": {
    "name": "ipython",
    "version": 3
   },
   "file_extension": ".py",
   "mimetype": "text/x-python",
   "name": "python",
   "nbconvert_exporter": "python",
   "pygments_lexer": "ipython3",
   "version": "3.7.3"
  }
 },
 "nbformat": 4,
 "nbformat_minor": 2
}
