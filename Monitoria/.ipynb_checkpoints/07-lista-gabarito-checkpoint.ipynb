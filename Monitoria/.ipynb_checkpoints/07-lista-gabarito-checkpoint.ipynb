{
 "cells": [
  {
   "cell_type": "markdown",
   "metadata": {},
   "source": [
    "<b>\n",
    "<br>\n",
    "<font size=\"5\"><p style=\"text-align: center;\">Introdução à Programação de Computadores</p></font>\n",
    "<br>\n",
    "<font size=\"5\"><p style=\"text-align: center;\">Lista de Exercícios #7</p></font>\n",
    "</b>\n",
    "<br><br>\n",
    "<font size=\"4\"><b>Professores:</b> <br>\n",
    "<font size=\"3\">\n",
    "Jefersson dos Santos - jefersson@dcc.ufmg.br \n",
    "<br>\n",
    "Guilherme Maia - jgmm@dcc.ufmg.br\n",
    "<br><br>\n",
    "<b>Monitores:</b> </font>\n",
    "<font size=\"3\">\n",
    "<br>\n",
    "Guilherme Pereira - guilhermepereira@dcc.ufmg.br\n",
    "<br>\n",
    "Igor Patricio dos Santos - igorp@ufmg.br\n",
    "<br>\n",
    "Igor Muzetti Pereira - \tigormuzetti@ufmg.br\n",
    "</font>\n",
    "</div>"
   ]
  },
  {
   "cell_type": "markdown",
   "metadata": {},
   "source": [
    "**Questão 1)** Escreva uma função chamada *escalas* que recebe um arquivo como parâmetro: a primeira linha do arquivo representa o *inicio*, a segunda o *fim* e terceira o *passo*, referentes a um intervalo de temperatura em graus Celsius. Sua função deve imprimir *n* linhas contendo  uma tabela de conversão de graus Celsius para Fahrenheit e Kelvin **nessa ordem**. Escreva também o código principal (fora da função) onde os valores *inicio*, *fim* e *passo* serão lidos do usuário.\n",
    "\n",
    "**Nota:** A conversão de Celsius para Fahrenheit é dada por: $TF = TC *\\frac{9}{5} + 32$ <br>\n",
    "A conversão de Celsius para Kelvin é dada por: $TK = TC + 273$\n",
    "\n",
    "**Exemplo**\n",
    "<pre>\n",
    "Formato do arquivo:\n",
    "    50\n",
    "    100\n",
    "    10\n",
    "Saida:\n",
    "    50 122 323\n",
    "    60 140 333\n",
    "    70 158 343\n",
    "    80 176 353\n",
    "    90 194 363\n",
    "    100 212 373\n",
    "</pre>"
   ]
  },
  {
   "cell_type": "code",
   "execution_count": 2,
   "metadata": {},
   "outputs": [
    {
     "name": "stdout",
     "output_type": "stream",
     "text": [
      "50 122 323\n",
      "60 140 333\n",
      "70 158 343\n",
      "80 176 353\n",
      "90 194 363\n",
      "100 212 373\n"
     ]
    }
   ],
   "source": [
    "def escalas(arquivo):\n",
    "    \n",
    "    linhas = arquivo.readlines()\n",
    "    numeros = [int(num.strip()) for num in linhas]\n",
    "    \n",
    "    for i in range(numeros[0], numeros[1] + 1, numeros[2]):\n",
    "        print(i, int(i*9/5 + 32), i + 273)"
   ]
  },
  {
   "cell_type": "markdown",
   "metadata": {},
   "source": [
    "**Questão 2)** Escreva a função *mdc4(arquivo)* que retorna o máximo divisor comum entre 4 números presentes no arquivo, todos na mesma linha separados por espaço.\n",
    "\n",
    "Dica: O mdc(a,b,c) = mdc(a, mdc(b,c) )\n",
    "\n",
    "\n",
    "**Exemplo**\n",
    "<pre>\n",
    "Formato do arquivo:\n",
    "    156 182 429 26\n",
    "Saida:\n",
    "    13\n",
    "    \n",
    "Formato do arquivo:\n",
    "    6 12 15 18\n",
    "Saida:\n",
    "    3\n",
    "</pre>\n"
   ]
  },
  {
   "cell_type": "code",
   "execution_count": null,
   "metadata": {},
   "outputs": [],
   "source": [
    "def mdc4(arquivo):\n",
    "    num = []\n",
    "    \n",
    "    for linha in arquivo:\n",
    "        for n in linha.split():\n",
    "            num.append(int(n))\n",
    "            \n",
    "    def mdc(x,y):\n",
    "        resto = None\n",
    "        \n",
    "        while resto is not 0:\n",
    "            resto = x % y\n",
    "            x  = y\n",
    "            y  = resto\n",
    "            \n",
    "        return x\n",
    "    \n",
    "    return mdc(mdc(num[0],num[1]), mdc(num[2],num[3]))"
   ]
  },
  {
   "cell_type": "markdown",
   "metadata": {},
   "source": [
    "**Questão 3)** Escreva uma função valores(arquivo) que recebe um arquivo como parâmetro que possui n números (1 por linha) e que calcule:\n",
    "<ol>\n",
    "<li>A soma de todos os números</li>\n",
    "<li>O maior número digitado</li>\n",
    "<li>O menor número digitado</li>\n",
    "<li>A média dos números pares</li>\n",
    "<li>A quantidade de primos na sequência</li>\n",
    "</ol>\n",
    "\n",
    "**Formato do arquivo (exemplo):** \n",
    "<pre>\n",
    "    25\n",
    "    2\n",
    "    47\n",
    "    5\n",
    "    8\n",
    "    90\n",
    "<pre>"
   ]
  },
  {
   "cell_type": "code",
   "execution_count": 10,
   "metadata": {},
   "outputs": [],
   "source": [
    "def valores(arquivo):\n",
    "    linhas = arquivo.readlines()\n",
    "    numeros = [int(num.strip()) for num in linhas]\n",
    "    \n",
    "    print('A soma é:', sum(numeros))\n",
    "    print('O maior número é:', max(numeros))\n",
    "    print('O menor número é:', min(numeros))\n",
    "    \n",
    "    n = 0\n",
    "    total = 0\n",
    "    nprimos = 0\n",
    "\n",
    "    for i in numeros:\n",
    "        primo = True \n",
    "\n",
    "        if i % 2 == 0:\n",
    "            total += i\n",
    "            n += 1\n",
    "\n",
    "        if i <= 1:\n",
    "            primo = False\n",
    "\n",
    "        for j in range(2,i):\n",
    "            if i % j == 0:\n",
    "                primo = False\n",
    "                break\n",
    "\n",
    "        if primo == True:\n",
    "            nprimos += 1\n",
    "\n",
    "    print('A média dos pares é:', total/n)\n",
    "    print('O número de primos é:', nprimos)"
   ]
  },
  {
   "cell_type": "markdown",
   "metadata": {},
   "source": [
    "**Questão 4)** Escreva um programa que receba um string como entrada e altere todas as repetições do primeiro caractere dele por \"\\*\". <br>\n",
    "Exemplo: <br>\n",
    "**Input:** <br>\n",
    "&emsp; restart <br>\n",
    "**Output:** <br>\n",
    "&emsp; resta\\*t <br>"
   ]
  },
  {
   "cell_type": "code",
   "execution_count": null,
   "metadata": {},
   "outputs": [],
   "source": [
    "stringDeEntrada = input(\"Insira uma frase:\")\n",
    "\n",
    "primeiroCaractere = stringDeEntrada[0]\n",
    "\n",
    "stringAlterada = stringDeEntrada[1:].replace(primeiroCaractere, \"*\")\n",
    "stringAlterada = primeiroCaractere + stringAlterada\n",
    "\n",
    "print (stringAlterada)"
   ]
  },
  {
   "cell_type": "markdown",
   "metadata": {},
   "source": [
    "**Questão 5)** Escreva um programa que receba duas strings como entrada (ambas com o mesmo número de palavras e todas as palavras separadas por “ “). O seu programa deve imprimir as duas strings, com as palavras de índice par trocadas entre elas. Segue um exemplo abaixo. <br>\n",
    "\n",
    "**Input:** <br>\n",
    "&emsp; A aranha gosta de arranhar <br>\n",
    "&emsp; A bola foi chutada longe <br>\n",
    "\n",
    "**Output:** <br>\n",
    "&emsp; A bola gosta chutada arranhar <br>\n",
    "&emsp; A aranha foi de longe <br>\n"
   ]
  },
  {
   "cell_type": "code",
   "execution_count": null,
   "metadata": {},
   "outputs": [],
   "source": [
    "string1 = input(\"Insira a primeira frase:\")\n",
    "string2 = input(\"Insira a segunda frase:\")\n",
    "\n",
    "primeiraLista = string1.split(\" \")\n",
    "segundaLista = string2.split(\" \")\n",
    "\n",
    "for i in range(1, len(primeiraLista), 2):\n",
    "    aux = primeiraLista[i]\n",
    "    primeiraLista[i] = segundaLista[i]\n",
    "    segundaLista[i] = aux\n",
    "    \n",
    "print(\" \".join(primeiraLista))\n",
    "print(\" \".join(segundaLista))"
   ]
  },
  {
   "cell_type": "markdown",
   "metadata": {},
   "source": [
    "**Questão 6)** Crie um programa que insira itens de forma ordenada em uma lista. O seu programa deve imprimir a lista depois de cada inserção feita nela. O programa deve parar quando for digitado -1. <br>\n",
    "Exemplo: <br>\n",
    "**Input:** <br>\n",
    "&emsp; 1 <br>\n",
    "**Output:** <br>\n",
    "&emsp; [1] <br>\n",
    "**Input:** <br>\n",
    "&emsp; 3 <br>\n",
    "**Output:** <br>\n",
    "&emsp; [1,3] <br>\n",
    "**Input:** <br>\n",
    "&emsp; 2 <br>\n",
    "**Output:** <br>\n",
    "&emsp; [1,2,3] <br>\n"
   ]
  },
  {
   "cell_type": "code",
   "execution_count": null,
   "metadata": {},
   "outputs": [],
   "source": [
    "num = 0\n",
    "lista = []\n",
    "\n",
    "while True:\n",
    "    num = int(input(\"Digite um número: \"))\n",
    "    \n",
    "    if num < 0:\n",
    "        break\n",
    "        \n",
    "    lista.append(num)\n",
    "    lista.sort()\n",
    "    \n",
    "    print(lista)"
   ]
  },
  {
   "cell_type": "markdown",
   "metadata": {},
   "source": [
    "**Questão 7)** Escreva uma função que receba uma lista de strings como entrada e retorne o tamanho da maior string da lista. <br>"
   ]
  },
  {
   "cell_type": "code",
   "execution_count": null,
   "metadata": {},
   "outputs": [],
   "source": [
    "def maiorString(listaStrings):\n",
    "    maiorString = \"\"\n",
    "    \n",
    "    for string in listaStrings:\n",
    "        if string > maiorString:\n",
    "            maiorString = string\n",
    "            \n",
    "    return string"
   ]
  },
  {
   "cell_type": "markdown",
   "metadata": {},
   "source": [
    "**Questão 8)**  Escreva uma função que receba uma lista de strings como entrada e um caractere. A função deve retornar a mesma lista, mas com todas as strings que começam com o caractere (recebido por parâmetro) removidas da lista."
   ]
  },
  {
   "cell_type": "code",
   "execution_count": null,
   "metadata": {},
   "outputs": [],
   "source": [
    "def removeStringChar(listaString, char):\n",
    "    for string in listaString:\n",
    "        if string[0] is char:\n",
    "            listaString.remove(string)\n",
    "            \n",
    "    return listaString"
   ]
  }
 ],
 "metadata": {
  "kernelspec": {
   "display_name": "Python 3",
   "language": "python",
   "name": "python3"
  },
  "language_info": {
   "codemirror_mode": {
    "name": "ipython",
    "version": 3
   },
   "file_extension": ".py",
   "mimetype": "text/x-python",
   "name": "python",
   "nbconvert_exporter": "python",
   "pygments_lexer": "ipython3",
   "version": "3.7.3"
  }
 },
 "nbformat": 4,
 "nbformat_minor": 2
}
