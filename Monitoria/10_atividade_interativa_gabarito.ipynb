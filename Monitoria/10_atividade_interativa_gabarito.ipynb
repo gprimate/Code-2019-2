{
 "cells": [
  {
   "cell_type": "markdown",
   "metadata": {
    "colab_type": "text",
    "id": "LK_lhZCZdSeN"
   },
   "source": [
    "<b>\n",
    "<br>\n",
    "<font size=\"5\"><p style=\"text-align: center;\">Introdução à Programação de Computadores</p></font>\n",
    "<br>\n",
    "<font size=\"5\"><p style=\"text-align: center;\">Atividade Interativa #10</p></font>\n",
    "</b>\n",
    "<br><br>\n",
    "<font size=\"4\"><b>Professores:</b>\n",
    "<br>\n",
    "Jefersson A. dos Santos - jefersson@dcc.ufmg.br\n",
    "<br>\n",
    "João Guilherme Maia de Menezes - jgmm@dcc.ufmg.br\n",
    "<br><br>\n",
    "</font>\n",
    "<hr>\n",
    "<br>\n",
    "<font size=\"3\">\n",
    "</font>\n",
    "\n",
    "# Estatísticas sobre gastos parlamentares \n",
    "------------------\n",
    "\n",
    "# 1. Introdução\n",
    "\n",
    "---------------\n",
    "\n",
    "A Cota para o Exercício da Atividade Parlamentar – CEAP (antiga verba indenizatória) é uma cota única mensal destinada a custear os gastos dos deputados exclusivamente vinculados ao exercício da atividade parlamentar.\n",
    "\n",
    "Nessa atividade prática você deverá implementar uma série de funções para geração de gráficos sobre os gastos parlamentares utilizando os dados publicamente disponíveis sobre as despesas do [CEAP](https://dadosabertos.camara.leg.br/swagger/api.html \"Arquivos - Despesas pela Cota para Exercício da Atividade Parlamentar\"). \n",
    "\n",
    "\n",
    "Você pode baixar os arquivos CSV do [site](https://dadosabertos.camara.leg.br/swagger/api.html) para a pasta **dados_parlamento** dentro do diretório onde se encontra o seu notebook (arquivo com extensão ipynb)\n",
    "\n",
    "Não altere o nome dos arquivos:\n",
    "* Ano-2009.csv\n",
    "* Ano-2010.csv\n",
    "* Ano-2011.csv\n",
    "* Ano-2012.csv\n",
    "* Ano-2013.csv\n",
    "* Ano-2014.csv\n",
    "* Ano-2015.csv\n",
    "* Ano-2016.csv\n",
    "* Ano-2017.csv\n",
    "\n",
    "As suas funções para leitura dos arquivos devem utilizar caminhos relativos.<br>\n",
    "Ou seja, para a leitura dos dados do arquivo Ano-2009.csv, por exemplo, o nome do arquivo passado para a função *open* deve ser \"dados_parlamento/Ano-2009.csv\". \n",
    "\n",
    "Não utilizar o caminho absoluto (por exemplo \"C:\\usuarios\\m1011\\documents\\tp2\\dados_parlamento\\Ano-2009.csv\") pois isso provavelmente impedirá que seu trabalho funcione em outra máquina além da sua.\n",
    "\n",
    "# 2. O que deve ser feito\n",
    "---------------\n",
    "\n",
    "Para manipulação dos dados, você deverá implementar pelo menos (sendo permitida a implementação de outras funções, caso necessário):\n",
    "<ol>\n",
    "<li>Uma função para leitura dos dados. **Atenção:** (1) Observe que os dados estão codificados em formato UTF-8; (2) Observe que os arquivos são grandes. Talvez não seja uma boa ideia ler tudo e colocar em uma única lista. **FEITO!**</li>\n",
    "<li>Uma função que retorna uma lista com os gastos totais da Câmara dos Deputados em um intervalo ('ano início' até 'ano fim').</li>\n",
    "<li>Uma função que retorna uma lista com os gastos totais de todos os parlamentares em um ano específico.</li>\n",
    "<li>Uma função que retorna os gastos médios totais dos parlamentares por partido para um ano específico.</li>\n",
    "<li>Uma função que retorna os gastos médios totais dos parlamentares por estado para um ano específico.</li>\n",
    "</ol>\n",
    "\n",
    "As funções deverão ser utilizadas para plotar:\n",
    "<ol>\n",
    "<li>Um gráfico ilustrando a evolução dos gastos das cotas da Câmara dos Deputados entre 2009 e 2019.</li>\n",
    "<li>Um histograma mostrando o total dos 20 parlamentares que mais gastaram em 2019.</li>\n",
    "<li>Um histograma por partido, mostrando os gastos médios de seus parlamentares no ano de 2019.</li>\n",
    "<li>Um histograma por estado, mostrando os gastos médios de seus parlamentares ano de 2019.</li>\n",
    "</ol>\n",
    "\n",
    "No final, você deverá utilizar os gráficos para responder as seguintes perguntas:\n",
    "<ol>\n",
    "<li>Houve alguma redução nos gastos com o CEAP nos últimos anos em que o país vive uma crise de arrecadação?</li>\n",
    "<li>Quais os parlamentares mais caros no exercício de 2019?</li>\n",
    "<li>Quais os partidos que, na média, mais \"custam\" para o Brasil em termos de auxílios a parlamentares?</li>\n",
    "<li>Quais os estados, na média, mais \"custam\" para o Brasil em termos de auxílios a parlamentares? Pelas regras de liberação dos auxílios para viagem, o esperado é que os estados mais distantes do DF custem mais. </li>\n",
    "</ol>\n",
    "\n",
    "\n"
   ]
  },
  {
   "cell_type": "code",
   "execution_count": 0,
   "metadata": {
    "colab": {},
    "colab_type": "code",
    "id": "KQThUqEmdSee",
    "scrolled": false
   },
   "outputs": [],
   "source": [
    "# Criando a pasta\n",
    "!mkdir dados_parlamentares\n",
    "\n",
    "# Baixando os dados de 2019\n",
    "!wget http://www.camara.leg.br/cotas/Ano-2019.csv.zip\n",
    "!wget http://www.camara.leg.br/cotas/Ano-2018.csv.zip\n",
    "!wget http://www.camara.leg.br/cotas/Ano-2017.csv.zip\n",
    "!wget http://www.camara.leg.br/cotas/Ano-2016.csv.zip\n",
    "!wget http://www.camara.leg.br/cotas/Ano-2015.csv.zip\n",
    "!wget http://www.camara.leg.br/cotas/Ano-2014.csv.zip\n",
    "!wget http://www.camara.leg.br/cotas/Ano-2013.csv.zip\n",
    "!wget http://www.camara.leg.br/cotas/Ano-2012.csv.zip\n",
    "!wget http://www.camara.leg.br/cotas/Ano-2011.csv.zip\n",
    "!wget http://www.camara.leg.br/cotas/Ano-2010.csv.zip\n",
    "!wget http://www.camara.leg.br/cotas/Ano-2009.csv.zip\n",
    "\n",
    "!unzip Ano-2019.csv.zip\n",
    "!unzip Ano-2018.csv.zip\n",
    "!unzip Ano-2017.csv.zip\n",
    "!unzip Ano-2016.csv.zip\n",
    "!unzip Ano-2015.csv.zip\n",
    "!unzip Ano-2014.csv.zip\n",
    "!unzip Ano-2013.csv.zip\n",
    "!unzip Ano-2012.csv.zip\n",
    "!unzip Ano-2011.csv.zip\n",
    "!unzip Ano-2010.csv.zip\n",
    "!unzip Ano-2009.csv.zip\n",
    "\n",
    "!mv *.csv dados_parlamentares/\n"
   ]
  },
  {
   "cell_type": "code",
   "execution_count": 11,
   "metadata": {
    "colab": {
     "base_uri": "https://localhost:8080/",
     "height": 139
    },
    "colab_type": "code",
    "id": "tWCQFPNCdSeU",
    "outputId": "361be2e9-3bea-49dc-fc27-990b78044468"
   },
   "outputs": [
    {
     "name": "stdout",
     "output_type": "stream",
     "text": [
      "['\\ufefftxNomeParlamentar', 'cpf', 'ideCadastro', 'nuCarteiraParlamentar', 'nuLegislatura', 'sgUF', 'sgPartido', 'codLegislatura', 'numSubCota', 'txtDescricao', 'numEspecificacaoSubCota', 'txtDescricaoEspecificacao', 'txtFornecedor', 'txtCNPJCPF', 'txtNumero', 'indTipoDocumento', 'datEmissao', 'vlrDocumento', 'vlrGlosa', 'vlrLiquido', 'numMes', 'numAno', 'numParcela', 'txtPassageiro', 'txtTrecho', 'numLote', 'numRessarcimento', 'vlrRestituicao', 'nuDeputadoId', 'ideDocumento', 'urlDocumento'] \n",
      "\n",
      "Nome do parlamentar:  AVANTE\n",
      "Número total de registros: 224155\n",
      "\n",
      "['AVANTE', '', '', '', '2019', 'NA', '', '56', '13', 'FORNECIMENTO DE ALIMENTAÇÃO DO PARLAMENTAR', '0', '', 'ANA CAROLINA MOURA ALVES 01136994173', '307.711.930/0014-5', '001329989', '0', '2019-06-06T00:00:00', '2100', '0', '2100', '6', '2019', '0', '', '', '1609131', '', '', '3175', '6862742', 'https://www.camara.leg.br/cota-parlamentar/documentos/publ/3175/2019/6862742.pdf']\n"
     ]
    }
   ],
   "source": [
    "# 1 - Uma função para leitura dos dados:\n",
    "\n",
    "# Funcao que le os dados de um arquivo CSV e retorna a lista de rótulos (nome das colunas) e os dados.\n",
    "# Estamos levando em consideracao que todos os dados do arquivo cabem na memória do computador.\n",
    "def le_dados(filename):\n",
    "    # Abrindo o arquivo. \n",
    "    # Utilizamos o parametro 'encoding' para indicar que o arquivo possui uma codificacao especifica. \n",
    "    # Isso garante que os acentos e caracteres especiais sejam lidos adequadamente.\n",
    "    #file = open(filename, 'r', encoding='ISO-8859-1')\n",
    "    file = open(filename, 'r', encoding='UTF-8')\n",
    "    \n",
    "    # Criando uma lista vazia para armazenar todos os dados do arquivo\n",
    "    dados = []\n",
    "    \n",
    "    # Para cada linha do arquivo, realizamos as seguintes operacoes: \n",
    "    # (1) removemos o caractere '\\n' do final da linha\n",
    "    # (2) substituimos as ',' por ';' para evitar problemas com a separacao da parte decimal de valores.\n",
    "    # (3) removemos as aspas extras\n",
    "    # (4) transformamos a linha em uma lista\n",
    "    # (5) adicionamos a lista de itens na lista 'dados'\n",
    "    for line in file:\n",
    "        dados.append(line.rstrip().replace('\",\"','\";\"').replace('\"','').split(';'))\n",
    "        \n",
    "    # Separando a primeira linha do arquivo para uma lista separada de 'rotulos'\n",
    "    rotulos = dados.pop(0)\n",
    "    \n",
    "    return rotulos, dados\n",
    "\n",
    "############# BLOCO PRINCIPAL DO PROGRAMA #############\n",
    "# Apenas um teste. Fique a vontade para alterar ou apagar esse trecho de código.\n",
    "rotulos, dados = le_dados(\"dados_parlamentares/Ano-2019.csv\")\n",
    "\n",
    "print (rotulos, \"\\n\")\n",
    "print (\"Nome do parlamentar: \", dados[0][0])\n",
    "print (\"Número total de registros: %d\\n\" % (len(dados)))\n",
    "print(dados[0])"
   ]
  },
  {
   "cell_type": "code",
   "execution_count": 0,
   "metadata": {
    "colab": {},
    "colab_type": "code",
    "id": "IrsJw-raH4av"
   },
   "outputs": [],
   "source": [
    "## Bibliotecas utilizadas\n",
    "\n",
    "import numpy as np\n",
    "import matplotlib.pyplot as plt\n",
    "import matplotlib.ticker as ticker\n",
    "\n",
    "from operator import itemgetter"
   ]
  },
  {
   "cell_type": "code",
   "execution_count": 55,
   "metadata": {
    "colab": {
     "base_uri": "https://localhost:8080/",
     "height": 277
    },
    "colab_type": "code",
    "id": "9pqa-dRDdSeb",
    "outputId": "53c6bb90-25d4-4a44-bb6d-8e384489e346"
   },
   "outputs": [
    {
     "data": {
      "image/png": "[encoded data removed]",
      "text/plain": [
       "<Figure size 432x288 with 1 Axes>"
      ]
     },
     "metadata": {
      "tags": []
     },
     "output_type": "display_data"
    }
   ],
   "source": [
    "# Implemente o código das suas funções seus códigos aqui. \n",
    "# Fique livre para criar quantas células você achar necessário.\n",
    "\n",
    "# 2 - Uma função que retorna uma lista com os gastos totais da Câmara dos Deputados em um intervalo ('ano início' até 'ano fim')\n",
    "\n",
    "def gastos_totais_intervalo(ano_inicio, ano_fim):\n",
    "    gastos = []\n",
    "    for ano in range(ano_inicio, ano_fim + 1):\n",
    "        gasto_total_ano = 0\n",
    "        rotulos, dados = le_dados(\"dados_parlamentares/Ano-\" + str(ano) + \".csv\")\n",
    "\n",
    "        # Iterar em cada registro de gasto\n",
    "        # A informação do gasto está na coluna de rótulos identificada por 'vlrLiquido'\n",
    "        index = rotulos.index('vlrLiquido')\n",
    "        for registro in dados:            \n",
    "            gasto_total_ano += float(registro[index])\n",
    "        \n",
    "        gastos.append((ano, gasto_total_ano))\n",
    "    return gastos\n",
    "\n",
    "## BLOCO PRINCIPAL DO PROGRAMA ##\n",
    "#gastos_totais_intervalo(2010, 2019)\n",
    "\n",
    "# Plota um gráfico com a série temporal dos gastos totais da Câmara dos Deputados\n",
    "# Entrada: lista de tuplas (ano, gasto)\n",
    "def plot_serie_gastos(lista):    \n",
    "    x = []\n",
    "    y = []\n",
    "    \n",
    "    for l in lista:\n",
    "        x.append(l[0])\n",
    "        y.append(l[1]/(10**6)) # Dividindo por 1 milhao para facilitar a representação\n",
    "\n",
    "    fig, ax = plt.subplots()\n",
    "    fig.autofmt_xdate()        \n",
    "    \n",
    "    plt.plot(x,y)    \n",
    "\n",
    "    plt.ylabel('Gastos (em milhões de reais)')\n",
    "    plt.xticks(rotation=60)\n",
    "    plt.grid(True)\n",
    "    ax.set_title('Total de gastos parlamentares entre 2010 e 2019')\n",
    "    plt.show() \n",
    "\n",
    "############# BLOCO PRINCIPAL DO PROGRAMA #############    \n",
    "\n",
    "plot_serie_gastos(gastos_totais_intervalo(2010, 2019))\n",
    "\n",
    "\n"
   ]
  },
  {
   "cell_type": "code",
   "execution_count": 44,
   "metadata": {
    "colab": {
     "base_uri": "https://localhost:8080/",
     "height": 389
    },
    "colab_type": "code",
    "id": "uxP5AEvhBFe_",
    "outputId": "98f05109-41b2-41d2-bb1a-69971a5f7c74"
   },
   "outputs": [
    {
     "data": {
      "image/png": "[encoded data removed]",
      "text/plain": [
       "<Figure size 432x288 with 1 Axes>"
      ]
     },
     "metadata": {
      "tags": []
     },
     "output_type": "display_data"
    }
   ],
   "source": [
    "# 3 - Uma função que retorna uma lista com os gastos totais de todos os parlamentares em um ano específico\n",
    "\n",
    "def gastos_totais_por_parlamentar(ano):\n",
    "    gastos_dict = {}\n",
    "    rotulos, dados = le_dados(\"dados_parlamentares/Ano-\" + str(ano) + \".csv\")\n",
    "\n",
    "    # Iterar em cada registro de gasto\n",
    "    # A informação do gasto está na coluna de rótulos identificada por 'vlrLiquido'\n",
    "    index_id = rotulos.index('\\ufefftxNomeParlamentar')\n",
    "    index_gasto = rotulos.index('vlrLiquido')\n",
    "    for registro in dados:   \n",
    "        id_parlamentar = registro[index_id]      \n",
    "        valor_gasto = float(registro[index_gasto])\n",
    "        gastos_dict[id_parlamentar] = gastos_dict.get(id_parlamentar, 0.0) + valor_gasto\n",
    "        \n",
    "    gastos = []\n",
    "    for parlamentar, gasto in gastos_dict.items():\n",
    "        gastos.append((parlamentar, gasto))\n",
    "    return gastos\n",
    "\n",
    "# Plota um histograma dos 20 parlamentares com os maiores gastos em um dado ano\n",
    "# Entrada: lista de tuplas (nome parlamentar, total gasto)\n",
    "def plot_histogram(dados, ano):\n",
    "    \n",
    "    \n",
    "    gastos_ordenados = sorted(dados, reverse=True, key=itemgetter(1))\n",
    "    \n",
    "    fig, ax = plt.subplots()\n",
    "\n",
    "    valores = []\n",
    "    nomes = []\n",
    "    for k, v in gastos_ordenados[:20]:\n",
    "        valores.append(float(v)/(10**6)) # Milhoes\n",
    "        nomes.append(k)\n",
    "    \n",
    "    ind = np.arange(len(valores))  # the x locations for the groups\n",
    "    width = 0.65       # the width of the bars        \n",
    "    \n",
    "    rects1 = ax.bar(ind, valores, width, color='b')\n",
    "    \n",
    "    ax.set_xticks(ind)\n",
    "    ax.set_xticklabels(nomes)\n",
    "    ax.set_title('Parlamentares com maiores gastos em ' + str(ano))\n",
    "\n",
    "    plt.ylabel('(em milhões de R$)')\n",
    "    plt.xticks(rotation=90)\n",
    "    \n",
    "    plt.show()\n",
    "\n",
    "############# BLOCO PRINCIPAL DO PROGRAMA #############\n",
    "\n",
    "plot_histogram(gastos_totais_por_parlamentar(2019), 2019)"
   ]
  },
  {
   "cell_type": "code",
   "execution_count": 58,
   "metadata": {
    "colab": {
     "base_uri": "https://localhost:8080/",
     "height": 353
    },
    "colab_type": "code",
    "id": "LCT-Gc8WBLaq",
    "outputId": "cb078ee8-75bb-4048-bffc-a0cc57e209e5"
   },
   "outputs": [
    {
     "data": {
      "image/png": "[encoded data removed]",
      "text/plain": [
       "<Figure size 432x288 with 1 Axes>"
      ]
     },
     "metadata": {
      "tags": []
     },
     "output_type": "display_data"
    }
   ],
   "source": [
    "# 4 - Uma função que retorna os gastos médios totais dos parlamentares por partido para um ano específico.\n",
    "\n",
    "def gastos_totais_por_partido(ano):\n",
    "    gastos_partidos_dict = {}\n",
    "    rotulos, dados = le_dados(\"dados_parlamentares/Ano-\" + str(ano) + \".csv\")\n",
    "\n",
    "    # Iterar em cada registro de gasto\n",
    "    index_partido = rotulos.index('sgPartido')\n",
    "    index_id = rotulos.index('\\ufefftxNomeParlamentar')\n",
    "    index_gasto = rotulos.index('vlrLiquido')\n",
    "    for registro in dados: \n",
    "        partido = registro[index_partido]\n",
    "        id_parlamentar = registro[index_id]      \n",
    "        valor_gasto = float(registro[index_gasto])\n",
    "        \n",
    "        if partido is not '':            \n",
    "            gastos_parlamentares_dict = gastos_partidos_dict.get(partido, dict())\n",
    "            gastos_parlamentares_dict[id_parlamentar] = gastos_parlamentares_dict.get(id_parlamentar, 0.0) + valor_gasto\n",
    "            gastos_partidos_dict[partido] = gastos_parlamentares_dict         \n",
    "\n",
    "    gastos = []\n",
    "    for partido, dict_parlamentares in gastos_partidos_dict.items():\n",
    "        media = sum(dict_parlamentares.values()) / len(dict_parlamentares)\n",
    "        gastos.append((partido, media))\n",
    "    return gastos\n",
    "\n",
    "gastos_totais_por_partido(2019)\n",
    "\n",
    "# Plota um histograma com o gasto dos partidos em um dado ano\n",
    "# Entrada: lista de tuplas (partido, total gasto)\n",
    "def plot_histogram_partidos(dados, ano):\n",
    "    \n",
    "    \n",
    "    gastos_ordenados = sorted(dados, reverse=True, key=itemgetter(1))\n",
    "    \n",
    "    fig, ax = plt.subplots()\n",
    "\n",
    "    valores = []\n",
    "    nomes = []\n",
    "    for k, v in gastos_ordenados:\n",
    "        valores.append(float(v)/(10**6)) # Milhoes\n",
    "        nomes.append(k)\n",
    "    \n",
    "    ind = np.arange(len(valores))  # the x locations for the groups\n",
    "    width = 0.65       # the width of the bars        \n",
    "    \n",
    "    rects1 = ax.bar(ind, valores, width, color='b')\n",
    "    \n",
    "    ax.set_xticks(ind)\n",
    "    ax.set_xticklabels(nomes)\n",
    "    ax.set_title('Gasto dos partidos em ' + str(ano))\n",
    "\n",
    "    plt.ylabel('(em milhões de R$)')\n",
    "    plt.xticks(rotation=90)\n",
    "    \n",
    "    plt.show()\n",
    "\n",
    "############# BLOCO PRINCIPAL DO PROGRAMA #############    \n",
    "\n",
    "plot_histogram_partidos(gastos_totais_por_partido(2019), 2019)"
   ]
  },
  {
   "cell_type": "code",
   "execution_count": 57,
   "metadata": {
    "colab": {
     "base_uri": "https://localhost:8080/",
     "height": 288
    },
    "colab_type": "code",
    "id": "0jRzXampBRCz",
    "outputId": "3a6d23a6-b798-4a10-c2a6-c17cdff8f662"
   },
   "outputs": [
    {
     "data": {
      "image/png": "[encoded data removed]",
      "text/plain": [
       "<Figure size 432x288 with 1 Axes>"
      ]
     },
     "metadata": {
      "tags": []
     },
     "output_type": "display_data"
    }
   ],
   "source": [
    "# 5 - Uma função que retorna os gastos médios totais dos parlamentares por estado para um ano específico.\n",
    "\n",
    "def gastos_totais_por_estado(ano):\n",
    "    gastos_estados_dict = {}\n",
    "    rotulos, dados = le_dados(\"dados_parlamentares/Ano-\" + str(ano) + \".csv\")\n",
    "\n",
    "    # Iterar em cada registro de gasto\n",
    "    index_estado = rotulos.index('sgUF')\n",
    "    index_id = rotulos.index('\\ufefftxNomeParlamentar')\n",
    "    index_gasto = rotulos.index('vlrLiquido')\n",
    "    for registro in dados: \n",
    "        estado = registro[index_estado]\n",
    "        id_parlamentar = registro[index_id]      \n",
    "        valor_gasto = float(registro[index_gasto])\n",
    "        \n",
    "        if estado is not '':            \n",
    "            gastos_parlamentares_dict = gastos_estados_dict.get(estado, dict())\n",
    "            gastos_parlamentares_dict[id_parlamentar] = gastos_parlamentares_dict.get(id_parlamentar, 0.0) + valor_gasto\n",
    "            gastos_estados_dict[estado] = gastos_parlamentares_dict         \n",
    "\n",
    "    gastos = []\n",
    "    for estado, dict_parlamentares in gastos_estados_dict.items():\n",
    "        media = sum(dict_parlamentares.values()) / len(dict_parlamentares)\n",
    "        gastos.append((estado, media))\n",
    "    return gastos\n",
    "\n",
    "# Plota um histograma com o gasto dos estados em um dado ano\n",
    "# Entrada: lista de tuplas (estado, total gasto)\n",
    "def plot_histogram_estados(dados, ano):\n",
    "    \n",
    "    gastos_ordenados = sorted(dados, reverse=True, key=itemgetter(1))\n",
    "    \n",
    "    fig, ax = plt.subplots()\n",
    "\n",
    "    valores = []\n",
    "    nomes = []\n",
    "    for k, v in gastos_ordenados:\n",
    "        valores.append(float(v)/(10**6)) # Milhoes\n",
    "        nomes.append(k)\n",
    "    \n",
    "    ind = np.arange(len(valores))  # the x locations for the groups\n",
    "    width = 0.65       # the width of the bars        \n",
    "    \n",
    "    rects1 = ax.bar(ind, valores, width, color='b')\n",
    "    \n",
    "    ax.set_xticks(ind)\n",
    "    ax.set_xticklabels(nomes)\n",
    "    ax.set_title('Gasto dos parlamentares por estado em ' + str(ano))\n",
    "\n",
    "    plt.ylabel('(em milhões de R$)')\n",
    "    plt.xticks(rotation=90)\n",
    "    \n",
    "    plt.show()\n",
    "\n",
    "############# BLOCO PRINCIPAL DO PROGRAMA #############\n",
    "\n",
    "plot_histogram_estados(gastos_totais_por_estado(2018), 2018)    "
   ]
  }
 ],
 "metadata": {
  "colab": {
   "name": "10_atividade_interativa_gabarito.ipynb",
   "provenance": []
  },
  "kernelspec": {
   "display_name": "Python 3",
   "language": "python",
   "name": "python3"
  },
  "language_info": {
   "codemirror_mode": {
    "name": "ipython",
    "version": 3
   },
   "file_extension": ".py",
   "mimetype": "text/x-python",
   "name": "python",
   "nbconvert_exporter": "python",
   "pygments_lexer": "ipython3",
   "version": "3.7.3"
  }
 },
 "nbformat": 4,
 "nbformat_minor": 1
}
