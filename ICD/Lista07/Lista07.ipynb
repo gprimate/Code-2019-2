{
 "cells": [
  {
   "cell_type": "markdown",
   "metadata": {
    "deletable": false,
    "editable": false,
    "nbgrader": {
     "checksum": "3818e732a20a001b7ac976d05bebae38",
     "grade": false,
     "grade_id": "cellc-a00",
     "locked": true,
     "schema_version": 1,
     "solution": false
    }
   },
   "source": [
    "# Lista 07 - Comparando Classificadores"
   ]
  },
  {
   "cell_type": "markdown",
   "metadata": {
    "deletable": false,
    "editable": false,
    "nbgrader": {
     "checksum": "dcdf972c9ddb3c9fbec115bf5320ac5a",
     "grade": false,
     "grade_id": "cell1c-a00",
     "locked": true,
     "schema_version": 1,
     "solution": false
    }
   },
   "source": [
    "# Exercício 01:\n",
    "\n",
    "Analise o desempenho do kNN e de uma Regressão Logística Regularizada para **pelo menos um** dos conjuntos de dados abaixo:\n",
    "\n",
    "* [Avaliação de carros](http://archive.ics.uci.edu/ml/datasets/Car+Evaluation)\n",
    "* [Avaliação de vinhos](http://archive.ics.uci.edu/ml/datasets/Wine+Quality)\n",
    "* [Resultados de partidas do jogo Dota](http://archive.ics.uci.edu/ml/datasets/Dota2+Games+Results) (desafiador!)\n",
    "\n",
    "Para a questão, faça as seguintes tarefas:\n",
    "\n",
    "* Realize treino, validação e teste\n",
    "* Compare as métricas no teste\n",
    "* Reporte a precisão, revocação, F1 e a matriz de confusão\n",
    "\n",
    "Como já estamos no fim da matéria, você pode agora fazer uso da biblioteca scikit-learn. Afinal, no dia a dia, não implementamos tudo do zero. Abaixo temos os imports que vocês precisam. Leiam a API da biblioteca para saber como fazer uso da mesma."
   ]
  },
  {
   "cell_type": "code",
   "execution_count": 1,
   "metadata": {
    "deletable": false,
    "editable": false,
    "nbgrader": {
     "checksum": "4cb9f28f98be7a7173df5ebc7409532e",
     "grade": false,
     "grade_id": "cell-2ce424d4b26d1b9b",
     "locked": true,
     "schema_version": 1,
     "solution": false
    }
   },
   "outputs": [],
   "source": [
    "from sklearn.linear_model import LogisticRegression\n",
    "\n",
    "from sklearn.metrics import confusion_matrix\n",
    "from sklearn.metrics import precision_recall_fscore_support\n",
    "\n",
    "from sklearn.neighbors import KNeighborsClassifier\n",
    "\n",
    "# Um fator importante é que o SKLearn não cria conjuntos de validação para você. Você tem algumas abordagens,\n",
    "# uma é realizar um novo split no treino. Outra é fazer uso de classificadores com CV no fim.\n",
    "# Tipo LogisticRegressionCV (ver na API). Por fim, você pode fazer uso da classe GridSearchCV.\n",
    "# Leia a documentação da mesma.\n",
    "from sklearn.model_selection import train_test_split"
   ]
  },
  {
   "cell_type": "code",
   "execution_count": 2,
   "metadata": {
    "deletable": false,
    "nbgrader": {
     "checksum": "d018fd308b76554ff6d37bc9fe82404c",
     "grade": true,
     "grade_id": "cell1-a00",
     "locked": false,
     "points": 1,
     "schema_version": 1,
     "solution": true
    }
   },
   "outputs": [],
   "source": [
    "import pandas as pd\n",
    "import numpy as np"
   ]
  },
  {
   "cell_type": "code",
   "execution_count": 3,
   "metadata": {},
   "outputs": [
    {
     "data": {
      "text/html": [
       "<div>\n",
       "<style scoped>\n",
       "    .dataframe tbody tr th:only-of-type {\n",
       "        vertical-align: middle;\n",
       "    }\n",
       "\n",
       "    .dataframe tbody tr th {\n",
       "        vertical-align: top;\n",
       "    }\n",
       "\n",
       "    .dataframe thead th {\n",
       "        text-align: right;\n",
       "    }\n",
       "</style>\n",
       "<table border=\"1\" class=\"dataframe\">\n",
       "  <thead>\n",
       "    <tr style=\"text-align: right;\">\n",
       "      <th></th>\n",
       "      <th>fixed acidity</th>\n",
       "      <th>volatile acidity</th>\n",
       "      <th>citric acid</th>\n",
       "      <th>residual sugar</th>\n",
       "      <th>chlorides</th>\n",
       "      <th>free sulfur dioxide</th>\n",
       "      <th>total sulfur dioxide</th>\n",
       "      <th>density</th>\n",
       "      <th>pH</th>\n",
       "      <th>sulphates</th>\n",
       "      <th>alcohol</th>\n",
       "      <th>quality</th>\n",
       "    </tr>\n",
       "  </thead>\n",
       "  <tbody>\n",
       "    <tr>\n",
       "      <th>0</th>\n",
       "      <td>7.0</td>\n",
       "      <td>0.27</td>\n",
       "      <td>0.36</td>\n",
       "      <td>20.7</td>\n",
       "      <td>0.045</td>\n",
       "      <td>45.0</td>\n",
       "      <td>170.0</td>\n",
       "      <td>1.0010</td>\n",
       "      <td>3.00</td>\n",
       "      <td>0.45</td>\n",
       "      <td>8.8</td>\n",
       "      <td>6</td>\n",
       "    </tr>\n",
       "    <tr>\n",
       "      <th>1</th>\n",
       "      <td>6.3</td>\n",
       "      <td>0.30</td>\n",
       "      <td>0.34</td>\n",
       "      <td>1.6</td>\n",
       "      <td>0.049</td>\n",
       "      <td>14.0</td>\n",
       "      <td>132.0</td>\n",
       "      <td>0.9940</td>\n",
       "      <td>3.30</td>\n",
       "      <td>0.49</td>\n",
       "      <td>9.5</td>\n",
       "      <td>6</td>\n",
       "    </tr>\n",
       "    <tr>\n",
       "      <th>2</th>\n",
       "      <td>8.1</td>\n",
       "      <td>0.28</td>\n",
       "      <td>0.40</td>\n",
       "      <td>6.9</td>\n",
       "      <td>0.050</td>\n",
       "      <td>30.0</td>\n",
       "      <td>97.0</td>\n",
       "      <td>0.9951</td>\n",
       "      <td>3.26</td>\n",
       "      <td>0.44</td>\n",
       "      <td>10.1</td>\n",
       "      <td>6</td>\n",
       "    </tr>\n",
       "    <tr>\n",
       "      <th>3</th>\n",
       "      <td>7.2</td>\n",
       "      <td>0.23</td>\n",
       "      <td>0.32</td>\n",
       "      <td>8.5</td>\n",
       "      <td>0.058</td>\n",
       "      <td>47.0</td>\n",
       "      <td>186.0</td>\n",
       "      <td>0.9956</td>\n",
       "      <td>3.19</td>\n",
       "      <td>0.40</td>\n",
       "      <td>9.9</td>\n",
       "      <td>6</td>\n",
       "    </tr>\n",
       "    <tr>\n",
       "      <th>4</th>\n",
       "      <td>7.2</td>\n",
       "      <td>0.23</td>\n",
       "      <td>0.32</td>\n",
       "      <td>8.5</td>\n",
       "      <td>0.058</td>\n",
       "      <td>47.0</td>\n",
       "      <td>186.0</td>\n",
       "      <td>0.9956</td>\n",
       "      <td>3.19</td>\n",
       "      <td>0.40</td>\n",
       "      <td>9.9</td>\n",
       "      <td>6</td>\n",
       "    </tr>\n",
       "  </tbody>\n",
       "</table>\n",
       "</div>"
      ],
      "text/plain": [
       "   fixed acidity  volatile acidity  citric acid  residual sugar  chlorides  \\\n",
       "0            7.0              0.27         0.36            20.7      0.045   \n",
       "1            6.3              0.30         0.34             1.6      0.049   \n",
       "2            8.1              0.28         0.40             6.9      0.050   \n",
       "3            7.2              0.23         0.32             8.5      0.058   \n",
       "4            7.2              0.23         0.32             8.5      0.058   \n",
       "\n",
       "   free sulfur dioxide  total sulfur dioxide  density    pH  sulphates  \\\n",
       "0                 45.0                 170.0   1.0010  3.00       0.45   \n",
       "1                 14.0                 132.0   0.9940  3.30       0.49   \n",
       "2                 30.0                  97.0   0.9951  3.26       0.44   \n",
       "3                 47.0                 186.0   0.9956  3.19       0.40   \n",
       "4                 47.0                 186.0   0.9956  3.19       0.40   \n",
       "\n",
       "   alcohol  quality  \n",
       "0      8.8        6  \n",
       "1      9.5        6  \n",
       "2     10.1        6  \n",
       "3      9.9        6  \n",
       "4      9.9        6  "
      ]
     },
     "execution_count": 3,
     "metadata": {},
     "output_type": "execute_result"
    }
   ],
   "source": [
    "df = pd.read_csv('./winequality-white.csv', sep=';')\n",
    "df.head()"
   ]
  },
  {
   "cell_type": "code",
   "execution_count": 4,
   "metadata": {},
   "outputs": [],
   "source": [
    "copy = df.copy()\n",
    "\n",
    "y = copy['quality']\n",
    "del copy['quality']\n",
    "X = copy"
   ]
  },
  {
   "cell_type": "code",
   "execution_count": 5,
   "metadata": {},
   "outputs": [],
   "source": [
    "from sklearn.model_selection import train_test_split\n",
    "\n",
    "X_train, X_test, y_train, y_test = train_test_split(X, y, test_size=0.2)"
   ]
  },
  {
   "cell_type": "code",
   "execution_count": 6,
   "metadata": {},
   "outputs": [],
   "source": [
    "from sklearn.preprocessing import StandardScaler\n",
    "\n",
    "scaler = StandardScaler()\n",
    "\n",
    "X_nTest = (X_test - X_train.mean()) / X_train.std(ddof=1)\n",
    "X_nTrain = scaler.fit_transform(X_train)"
   ]
  },
  {
   "cell_type": "code",
   "execution_count": 7,
   "metadata": {},
   "outputs": [
    {
     "data": {
      "text/plain": [
       "{'n_neighbors': 25}"
      ]
     },
     "execution_count": 7,
     "metadata": {},
     "output_type": "execute_result"
    }
   ],
   "source": [
    "from sklearn.model_selection import GridSearchCV\n",
    "\n",
    "knn = KNeighborsClassifier()\n",
    "\n",
    "param_grid = {\"n_neighbors\": np.arange(2, 50)}\n",
    "\n",
    "knn = GridSearchCV(knn, param_grid, cv=3)\n",
    "\n",
    "knn.fit(X_nTrain, y_train)\n",
    "\n",
    "knn.best_params_"
   ]
  },
  {
   "cell_type": "code",
   "execution_count": 8,
   "metadata": {},
   "outputs": [
    {
     "name": "stdout",
     "output_type": "stream",
     "text": [
      "              precision    recall  f1-score   support\n",
      "\n",
      "           3       0.00      0.00      0.00         3\n",
      "           4       0.00      0.00      0.00        28\n",
      "           5       0.55      0.60      0.57       275\n",
      "           6       0.53      0.67      0.59       432\n",
      "           7       0.55      0.35      0.43       196\n",
      "           8       0.00      0.00      0.00        46\n",
      "\n",
      "    accuracy                           0.54       980\n",
      "   macro avg       0.27      0.27      0.27       980\n",
      "weighted avg       0.50      0.54      0.51       980\n",
      "\n"
     ]
    },
    {
     "name": "stderr",
     "output_type": "stream",
     "text": [
      "/home/gprimate/anaconda3/lib/python3.7/site-packages/sklearn/metrics/classification.py:1437: UndefinedMetricWarning: Precision and F-score are ill-defined and being set to 0.0 in labels with no predicted samples.\n",
      "  'precision', 'predicted', average, warn_for)\n"
     ]
    },
    {
     "data": {
      "text/plain": [
       "array([6, 5, 7, 6, 6, 5, 7, 7, 6, 6, 6, 6, 5, 6, 5, 5, 6, 6, 6, 6, 6, 6,\n",
       "       5, 6, 5, 5, 7, 6, 7, 6, 6, 5, 5, 7, 5, 7, 6, 5, 6, 6, 6, 7, 6, 6,\n",
       "       5, 5, 5, 6, 5, 6, 6, 6, 5, 6, 6, 6, 6, 6, 7, 6, 6, 6, 7, 6, 5, 5,\n",
       "       6, 7, 6, 5, 7, 5, 6, 5, 6, 5, 6, 5, 6, 6, 5, 6, 6, 6, 5, 5, 7, 6,\n",
       "       6, 5, 5, 5, 6, 5, 7, 6, 5, 5, 6, 6, 6, 5, 6, 6, 5, 7, 5, 6, 7, 5,\n",
       "       5, 6, 6, 6, 5, 5, 6, 6, 6, 6, 5, 6, 7, 5, 6, 7, 5, 5, 6, 6, 6, 7,\n",
       "       6, 6, 7, 6, 5, 6, 6, 7, 6, 6, 6, 5, 6, 6, 6, 6, 6, 6, 6, 5, 5, 5,\n",
       "       5, 5, 7, 5, 5, 5, 6, 6, 6, 6, 6, 5, 6, 7, 5, 5, 5, 6, 6, 7, 6, 6,\n",
       "       5, 5, 6, 5, 6, 6, 6, 5, 6, 7, 5, 5, 6, 6, 5, 6, 6, 6, 6, 5, 5, 6,\n",
       "       6, 7, 7, 6, 6, 5, 6, 5, 5, 6, 6, 6, 5, 7, 5, 7, 7, 5, 5, 6, 6, 6,\n",
       "       6, 6, 6, 5, 6, 6, 6, 6, 6, 6, 6, 5, 6, 7, 5, 7, 5, 6, 7, 6, 6, 6,\n",
       "       6, 6, 5, 6, 6, 6, 6, 6, 6, 6, 6, 6, 6, 6, 5, 5, 5, 7, 5, 7, 6, 6,\n",
       "       5, 5, 6, 5, 5, 6, 6, 7, 5, 5, 6, 6, 6, 5, 7, 6, 6, 5, 6, 6, 6, 6,\n",
       "       6, 6, 7, 6, 6, 6, 6, 6, 6, 5, 6, 5, 5, 6, 5, 6, 6, 6, 6, 6, 6, 6,\n",
       "       6, 6, 6, 6, 7, 5, 6, 6, 6, 6, 6, 6, 7, 6, 6, 6, 6, 6, 6, 6, 6, 6,\n",
       "       6, 7, 7, 7, 6, 5, 5, 7, 6, 5, 6, 5, 6, 5, 5, 6, 6, 6, 5, 6, 5, 6,\n",
       "       5, 5, 7, 5, 5, 6, 7, 6, 5, 5, 5, 7, 6, 7, 7, 5, 5, 5, 7, 6, 6, 5,\n",
       "       5, 5, 5, 6, 5, 5, 7, 7, 5, 6, 5, 6, 4, 5, 6, 6, 6, 5, 7, 6, 5, 5,\n",
       "       5, 6, 5, 7, 6, 6, 5, 7, 6, 7, 6, 6, 6, 6, 7, 5, 7, 4, 6, 6, 5, 5,\n",
       "       6, 7, 7, 6, 5, 5, 5, 6, 7, 5, 6, 6, 6, 6, 5, 6, 6, 6, 6, 5, 6, 6,\n",
       "       6, 6, 6, 7, 6, 6, 6, 6, 5, 5, 6, 5, 5, 8, 6, 6, 6, 6, 5, 5, 6, 5,\n",
       "       7, 6, 6, 5, 6, 5, 5, 7, 7, 6, 5, 6, 5, 5, 6, 6, 6, 6, 5, 6, 6, 6,\n",
       "       7, 5, 6, 5, 7, 6, 5, 5, 6, 5, 5, 6, 5, 6, 7, 5, 6, 6, 6, 6, 7, 6,\n",
       "       5, 7, 6, 5, 6, 5, 5, 6, 5, 6, 6, 6, 6, 5, 6, 6, 5, 6, 6, 6, 6, 6,\n",
       "       6, 5, 5, 6, 6, 5, 7, 7, 6, 6, 6, 7, 6, 5, 6, 6, 6, 6, 7, 6, 5, 6,\n",
       "       5, 6, 5, 7, 7, 6, 6, 5, 6, 6, 7, 5, 6, 6, 5, 7, 5, 6, 6, 6, 6, 6,\n",
       "       5, 6, 6, 6, 6, 5, 6, 7, 6, 5, 6, 6, 5, 5, 5, 5, 7, 6, 6, 6, 6, 6,\n",
       "       6, 6, 6, 6, 6, 6, 6, 7, 6, 6, 5, 6, 6, 5, 5, 5, 6, 7, 7, 6, 6, 5,\n",
       "       6, 5, 6, 7, 6, 5, 5, 6, 6, 6, 6, 5, 6, 5, 6, 6, 7, 6, 7, 5, 5, 5,\n",
       "       5, 5, 6, 7, 6, 5, 6, 6, 5, 6, 6, 5, 6, 6, 5, 5, 7, 5, 6, 6, 6, 6,\n",
       "       5, 5, 6, 5, 6, 6, 6, 5, 6, 6, 6, 7, 6, 6, 7, 7, 6, 6, 5, 5, 6, 7,\n",
       "       6, 6, 6, 5, 6, 6, 6, 6, 7, 6, 7, 5, 5, 6, 5, 5, 5, 5, 6, 6, 7, 5,\n",
       "       6, 6, 7, 5, 6, 6, 5, 6, 6, 6, 6, 5, 5, 5, 6, 5, 7, 5, 7, 5, 6, 6,\n",
       "       6, 6, 6, 6, 7, 5, 7, 6, 6, 5, 6, 5, 6, 5, 6, 6, 6, 6, 6, 5, 5, 5,\n",
       "       6, 6, 7, 6, 5, 6, 6, 6, 5, 5, 6, 6, 5, 7, 5, 5, 7, 6, 5, 7, 5, 6,\n",
       "       6, 6, 6, 5, 6, 5, 6, 7, 6, 5, 6, 7, 6, 5, 6, 7, 6, 6, 5, 6, 5, 4,\n",
       "       6, 7, 6, 5, 7, 6, 6, 6, 5, 6, 7, 5, 6, 6, 5, 5, 5, 5, 6, 6, 5, 5,\n",
       "       6, 6, 6, 6, 5, 6, 7, 6, 6, 6, 7, 6, 6, 6, 6, 6, 5, 6, 6, 6, 6, 6,\n",
       "       6, 6, 6, 5, 6, 6, 6, 6, 5, 6, 6, 5, 6, 5, 5, 6, 5, 6, 6, 6, 5, 6,\n",
       "       6, 5, 6, 5, 6, 6, 6, 6, 6, 5, 6, 5, 6, 6, 6, 5, 5, 6, 6, 7, 5, 5,\n",
       "       6, 5, 7, 6, 6, 5, 6, 6, 6, 7, 6, 6, 5, 7, 6, 5, 6, 5, 6, 6, 6, 6,\n",
       "       7, 6, 7, 6, 6, 6, 7, 5, 6, 7, 5, 7, 6, 4, 5, 6, 6, 6, 5, 5, 6, 6,\n",
       "       6, 6, 5, 6, 7, 6, 5, 5, 5, 5, 6, 6, 7, 6, 5, 6, 5, 6, 6, 6, 6, 6,\n",
       "       6, 5, 6, 5, 6, 6, 5, 7, 6, 5, 6, 5, 7, 6, 5, 5, 6, 6, 6, 6, 5, 6,\n",
       "       6, 5, 6, 6, 6, 5, 6, 6, 6, 6, 5, 6])"
      ]
     },
     "execution_count": 8,
     "metadata": {},
     "output_type": "execute_result"
    }
   ],
   "source": [
    "from sklearn.metrics import classification_report\n",
    "\n",
    "model_knn = KNeighborsClassifier(n_neighbors=23)\n",
    "model_knn.fit(X_nTrain, y_train)\n",
    "\n",
    "print(classification_report(y_test, model_knn.predict(X_nTest)))\n",
    "model_knn.predict(X_nTest)"
   ]
  },
  {
   "cell_type": "code",
   "execution_count": 13,
   "metadata": {},
   "outputs": [
    {
     "data": {
      "image/png": "[encoded data removed]",
      "text/plain": [
       "<Figure size 432x288 with 1 Axes>"
      ]
     },
     "metadata": {
      "needs_background": "light"
     },
     "output_type": "display_data"
    }
   ],
   "source": [
    "import matplotlib.pyplot as plt\n",
    "from sklearn.metrics import confusion_matrix\n",
    "\n",
    "\n",
    "labels = pd.Series(df.columns.values[3:10])\n",
    "\n",
    "plt.imshow(confusion_matrix(y_test, model_knn.predict(X_nTest)))\n",
    "plt.xticks(labels.index, labels, rotation=90)\n",
    "plt.yticks(labels.index, labels)           \n",
    "plt.show()"
   ]
  },
  {
   "cell_type": "code",
   "execution_count": 10,
   "metadata": {},
   "outputs": [],
   "source": [
    "from sklearn.linear_model import LogisticRegressionCV"
   ]
  },
  {
   "cell_type": "code",
   "execution_count": 11,
   "metadata": {},
   "outputs": [
    {
     "name": "stdout",
     "output_type": "stream",
     "text": [
      "              precision    recall  f1-score   support\n",
      "\n",
      "           3       0.00      0.00      0.00         3\n",
      "           4       0.07      0.11      0.09        28\n",
      "           5       0.51      0.76      0.61       275\n",
      "           6       0.55      0.23      0.32       432\n",
      "           7       0.36      0.65      0.47       196\n",
      "           8       0.00      0.00      0.00        46\n",
      "\n",
      "    accuracy                           0.44       980\n",
      "   macro avg       0.25      0.29      0.25       980\n",
      "weighted avg       0.46      0.44      0.41       980\n",
      "\n"
     ]
    },
    {
     "name": "stderr",
     "output_type": "stream",
     "text": [
      "/home/gprimate/anaconda3/lib/python3.7/site-packages/sklearn/metrics/classification.py:1437: UndefinedMetricWarning: Precision and F-score are ill-defined and being set to 0.0 in labels with no predicted samples.\n",
      "  'precision', 'predicted', average, warn_for)\n"
     ]
    }
   ],
   "source": [
    "model_log = LogisticRegressionCV(Cs=100, penalty='l2', cv=3, fit_intercept=False, multi_class='ovr')\n",
    "model_log.fit(X_nTrain, y_train)\n",
    "\n",
    "print(classification_report(y_test, model_log.predict(X_nTest)))"
   ]
  },
  {
   "cell_type": "code",
   "execution_count": 12,
   "metadata": {},
   "outputs": [
    {
     "data": {
      "image/png": "[encoded data removed]",
      "text/plain": [
       "<Figure size 432x288 with 1 Axes>"
      ]
     },
     "metadata": {
      "needs_background": "light"
     },
     "output_type": "display_data"
    }
   ],
   "source": [
    "plt.imshow(confusion_matrix(y_test, model_log.predict(X_nTest)))\n",
    "plt.xticks(labels.index, labels, rotation=90)\n",
    "plt.yticks(labels.index, labels)           \n",
    "plt.show()"
   ]
  },
  {
   "cell_type": "markdown",
   "metadata": {
    "deletable": false,
    "editable": false,
    "nbgrader": {
     "checksum": "5326a71f95cf2bff0dc9e8fb2fccd7aa",
     "grade": false,
     "grade_id": "cell-05ec0cf892ddb34e",
     "locked": true,
     "schema_version": 1,
     "solution": false
    }
   },
   "source": [
    "Explique e discuta sobre os resultados encontrados no campo abaixo."
   ]
  },
  {
   "cell_type": "markdown",
   "metadata": {
    "deletable": false,
    "nbgrader": {
     "checksum": "d58eb343f731c93ba8580a101bf55781",
     "grade": true,
     "grade_id": "cell-ff948e4b04b506a6",
     "locked": false,
     "points": 1,
     "schema_version": 1,
     "solution": true
    }
   },
   "source": [
    "Percebe-se que a base de dados não é bem comportada, ou seja, as previsões não foram muito boas.\n",
    "\n",
    "Muitas das colunas, tanto no KNN como na regressão logística foram consideradas como zero, nem apareceram no classification report.\n",
    "\n",
    "Com tudo isso, parece que em ambos os casos os atributos 'free sulfur dioxide', 'total sulfur dioxide' e 'density' obtiveram os melhores F1-scores.\n",
    "\n",
    "As matrizes de confusão confirmam exatamente isso."
   ]
  }
 ],
 "metadata": {
  "kernelspec": {
   "display_name": "Python 3",
   "language": "python",
   "name": "python3"
  },
  "language_info": {
   "codemirror_mode": {
    "name": "ipython",
    "version": 3
   },
   "file_extension": ".py",
   "mimetype": "text/x-python",
   "name": "python",
   "nbconvert_exporter": "python",
   "pygments_lexer": "ipython3",
   "version": "3.7.3"
  }
 },
 "nbformat": 4,
 "nbformat_minor": 2
}
